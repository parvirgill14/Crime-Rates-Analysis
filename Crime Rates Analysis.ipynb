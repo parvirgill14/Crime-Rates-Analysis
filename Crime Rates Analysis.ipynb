{
 "cells": [
  {
   "cell_type": "code",
   "execution_count": 1,
   "metadata": {
    "vscode": {
     "languageId": "r"
    }
   },
   "outputs": [
    {
     "name": "stderr",
     "output_type": "stream",
     "text": [
      "── \u001b[1mAttaching core tidyverse packages\u001b[22m ──────────────────────── tidyverse 2.0.0 ──\n",
      "\u001b[32m✔\u001b[39m \u001b[34mdplyr    \u001b[39m 1.1.2     \u001b[32m✔\u001b[39m \u001b[34mreadr    \u001b[39m 2.1.4\n",
      "\u001b[32m✔\u001b[39m \u001b[34mforcats  \u001b[39m 1.0.0     \u001b[32m✔\u001b[39m \u001b[34mstringr  \u001b[39m 1.5.0\n",
      "\u001b[32m✔\u001b[39m \u001b[34mggplot2  \u001b[39m 3.4.2     \u001b[32m✔\u001b[39m \u001b[34mtibble   \u001b[39m 3.2.1\n",
      "\u001b[32m✔\u001b[39m \u001b[34mlubridate\u001b[39m 1.9.2     \u001b[32m✔\u001b[39m \u001b[34mtidyr    \u001b[39m 1.3.0\n",
      "\u001b[32m✔\u001b[39m \u001b[34mpurrr    \u001b[39m 1.0.1     \n",
      "── \u001b[1mConflicts\u001b[22m ────────────────────────────────────────── tidyverse_conflicts() ──\n",
      "\u001b[31m✖\u001b[39m \u001b[34mdplyr\u001b[39m::\u001b[32mfilter()\u001b[39m masks \u001b[34mstats\u001b[39m::filter()\n",
      "\u001b[31m✖\u001b[39m \u001b[34mdplyr\u001b[39m::\u001b[32mlag()\u001b[39m    masks \u001b[34mstats\u001b[39m::lag()\n",
      "\u001b[36mℹ\u001b[39m Use the conflicted package (\u001b[3m\u001b[34m<http://conflicted.r-lib.org/>\u001b[39m\u001b[23m) to force all conflicts to become errors\n"
     ]
    }
   ],
   "source": [
    "library(readxl)\n",
    "library(tidyverse)"
   ]
  },
  {
   "cell_type": "code",
   "execution_count": 2,
   "metadata": {
    "vscode": {
     "languageId": "r"
    }
   },
   "outputs": [],
   "source": [
    "idf <- read.csv(\"income data.csv\")\n",
    "cdf <- read_xlsx(\"crime rate data.xlsx\")"
   ]
  },
  {
   "cell_type": "code",
   "execution_count": 3,
   "metadata": {
    "vscode": {
     "languageId": "r"
    }
   },
   "outputs": [
    {
     "data": {
      "text/html": [
       "<table class=\"dataframe\">\n",
       "<caption>A data.frame: 22 × 11</caption>\n",
       "<thead>\n",
       "\t<tr><th scope=col>Region</th><th scope=col>Year_2015</th><th scope=col>Year_2016</th><th scope=col>Year_2017</th><th scope=col>Year_2018</th><th scope=col>Year_2019</th><th scope=col>X</th><th scope=col>X.1</th><th scope=col>X.2</th><th scope=col>X.3</th><th scope=col>X.4</th></tr>\n",
       "\t<tr><th scope=col>&lt;chr&gt;</th><th scope=col>&lt;chr&gt;</th><th scope=col>&lt;chr&gt;</th><th scope=col>&lt;chr&gt;</th><th scope=col>&lt;chr&gt;</th><th scope=col>&lt;chr&gt;</th><th scope=col>&lt;lgl&gt;</th><th scope=col>&lt;lgl&gt;</th><th scope=col>&lt;lgl&gt;</th><th scope=col>&lt;lgl&gt;</th><th scope=col>&lt;lgl&gt;</th></tr>\n",
       "</thead>\n",
       "<tbody>\n",
       "\t<tr><td>Alberni Clayoquot   </td><td>68,420 </td><td>68,630 </td><td>69,880 </td><td>72,500 </td><td>74,500 </td><td>NA</td><td>NA</td><td>NA</td><td>NA</td><td>NA</td></tr>\n",
       "\t<tr><td>Capital             </td><td>99,810 </td><td>101,220</td><td>103,010</td><td>104,250</td><td>106,550</td><td>NA</td><td>NA</td><td>NA</td><td>NA</td><td>NA</td></tr>\n",
       "\t<tr><td>Cariboo             </td><td>80,592 </td><td>80,066 </td><td>83,317 </td><td>85,522 </td><td>85,415 </td><td>NA</td><td>NA</td><td>NA</td><td>NA</td><td>NA</td></tr>\n",
       "\t<tr><td>Central Kootenay    </td><td>       </td><td>74,380 </td><td>77,510 </td><td>79,820 </td><td>82,160 </td><td>NA</td><td>NA</td><td>NA</td><td>NA</td><td>NA</td></tr>\n",
       "\t<tr><td>Central Okanagan    </td><td>82,000 </td><td>83,100 </td><td>87,060 </td><td>88,890 </td><td>91,690 </td><td>NA</td><td>NA</td><td>NA</td><td>NA</td><td>NA</td></tr>\n",
       "\t<tr><td>Columbia Shuswap    </td><td>74,410 </td><td>75,320 </td><td>78,730 </td><td>80,580 </td><td>83,010 </td><td>NA</td><td>NA</td><td>NA</td><td>NA</td><td>NA</td></tr>\n",
       "\t<tr><td>Comox Valley        </td><td>76,020 </td><td>77,210 </td><td>81,620 </td><td>83,120 </td><td>86,090 </td><td>NA</td><td>NA</td><td>NA</td><td>NA</td><td>NA</td></tr>\n",
       "\t<tr><td>Cowichan Valley     </td><td>71,940 </td><td>72,860 </td><td>75,730 </td><td>78,840 </td><td>80,230 </td><td>NA</td><td>NA</td><td>NA</td><td>NA</td><td>NA</td></tr>\n",
       "\t<tr><td>East Kootenay       </td><td>86,310 </td><td>85,680 </td><td>88,900 </td><td>91,360 </td><td>93,160 </td><td>NA</td><td>NA</td><td>NA</td><td>NA</td><td>NA</td></tr>\n",
       "\t<tr><td>Fraser Fort George  </td><td>92,050 </td><td>91,770 </td><td>95,400 </td><td>97,910 </td><td>100,130</td><td>NA</td><td>NA</td><td>NA</td><td>NA</td><td>NA</td></tr>\n",
       "\t<tr><td>Fraser Valley       </td><td>78,730 </td><td>80,407 </td><td>83,512 </td><td>86,001 </td><td>88,558 </td><td>NA</td><td>NA</td><td>NA</td><td>NA</td><td>NA</td></tr>\n",
       "\t<tr><td>Kitimat Stikine     </td><td>85,770 </td><td>86,450 </td><td>87,860 </td><td>91,400 </td><td>98,590 </td><td>NA</td><td>NA</td><td>NA</td><td>NA</td><td>NA</td></tr>\n",
       "\t<tr><td>Metro Vancouver     </td><td>79,930 </td><td>82,510 </td><td>86,140 </td><td>89,000 </td><td>91,750 </td><td>NA</td><td>NA</td><td>NA</td><td>NA</td><td>NA</td></tr>\n",
       "\t<tr><td>Nanaimo             </td><td>76,205 </td><td>76,912 </td><td>79,821 </td><td>82,284 </td><td>84,655 </td><td>NA</td><td>NA</td><td>NA</td><td>NA</td><td>NA</td></tr>\n",
       "\t<tr><td>North Coast         </td><td>80,090 </td><td>81,600 </td><td>82,100 </td><td>89,320 </td><td>93,760 </td><td>NA</td><td>NA</td><td>NA</td><td>NA</td><td>NA</td></tr>\n",
       "\t<tr><td>North Okanagan      </td><td>78,450 </td><td>79,270 </td><td>82,010 </td><td>84,880 </td><td>87,350 </td><td>NA</td><td>NA</td><td>NA</td><td>NA</td><td>NA</td></tr>\n",
       "\t<tr><td>Okanagan Similkameen</td><td>69,380 </td><td>70,920 </td><td>73,890 </td><td>76,410 </td><td>80,250 </td><td>NA</td><td>NA</td><td>NA</td><td>NA</td><td>NA</td></tr>\n",
       "\t<tr><td>Peace River         </td><td>109,162</td><td>100,921</td><td>109,189</td><td>111,380</td><td>112,899</td><td>NA</td><td>NA</td><td>NA</td><td>NA</td><td>NA</td></tr>\n",
       "\t<tr><td>Qathet              </td><td>71,440 </td><td>71,260 </td><td>73,320 </td><td>75,500 </td><td>76,660 </td><td>NA</td><td>NA</td><td>NA</td><td>NA</td><td>NA</td></tr>\n",
       "\t<tr><td>Squamish Lillooet   </td><td>93,360 </td><td>97,820 </td><td>102,600</td><td>105,990</td><td>110,150</td><td>NA</td><td>NA</td><td>NA</td><td>NA</td><td>NA</td></tr>\n",
       "\t<tr><td>Strathcona          </td><td>77,890 </td><td>77,900 </td><td>80,980 </td><td>83,480 </td><td>84,600 </td><td>NA</td><td>NA</td><td>NA</td><td>NA</td><td>NA</td></tr>\n",
       "\t<tr><td>Thompson Nicola     </td><td>86,550 </td><td>86,990 </td><td>90,030 </td><td>92,380 </td><td>94,920 </td><td>NA</td><td>NA</td><td>NA</td><td>NA</td><td>NA</td></tr>\n",
       "</tbody>\n",
       "</table>\n"
      ],
      "text/latex": [
       "A data.frame: 22 × 11\n",
       "\\begin{tabular}{lllllllllll}\n",
       " Region & Year\\_2015 & Year\\_2016 & Year\\_2017 & Year\\_2018 & Year\\_2019 & X & X.1 & X.2 & X.3 & X.4\\\\\n",
       " <chr> & <chr> & <chr> & <chr> & <chr> & <chr> & <lgl> & <lgl> & <lgl> & <lgl> & <lgl>\\\\\n",
       "\\hline\n",
       "\t Alberni Clayoquot    & 68,420  & 68,630  & 69,880  & 72,500  & 74,500  & NA & NA & NA & NA & NA\\\\\n",
       "\t Capital              & 99,810  & 101,220 & 103,010 & 104,250 & 106,550 & NA & NA & NA & NA & NA\\\\\n",
       "\t Cariboo              & 80,592  & 80,066  & 83,317  & 85,522  & 85,415  & NA & NA & NA & NA & NA\\\\\n",
       "\t Central Kootenay     &         & 74,380  & 77,510  & 79,820  & 82,160  & NA & NA & NA & NA & NA\\\\\n",
       "\t Central Okanagan     & 82,000  & 83,100  & 87,060  & 88,890  & 91,690  & NA & NA & NA & NA & NA\\\\\n",
       "\t Columbia Shuswap     & 74,410  & 75,320  & 78,730  & 80,580  & 83,010  & NA & NA & NA & NA & NA\\\\\n",
       "\t Comox Valley         & 76,020  & 77,210  & 81,620  & 83,120  & 86,090  & NA & NA & NA & NA & NA\\\\\n",
       "\t Cowichan Valley      & 71,940  & 72,860  & 75,730  & 78,840  & 80,230  & NA & NA & NA & NA & NA\\\\\n",
       "\t East Kootenay        & 86,310  & 85,680  & 88,900  & 91,360  & 93,160  & NA & NA & NA & NA & NA\\\\\n",
       "\t Fraser Fort George   & 92,050  & 91,770  & 95,400  & 97,910  & 100,130 & NA & NA & NA & NA & NA\\\\\n",
       "\t Fraser Valley        & 78,730  & 80,407  & 83,512  & 86,001  & 88,558  & NA & NA & NA & NA & NA\\\\\n",
       "\t Kitimat Stikine      & 85,770  & 86,450  & 87,860  & 91,400  & 98,590  & NA & NA & NA & NA & NA\\\\\n",
       "\t Metro Vancouver      & 79,930  & 82,510  & 86,140  & 89,000  & 91,750  & NA & NA & NA & NA & NA\\\\\n",
       "\t Nanaimo              & 76,205  & 76,912  & 79,821  & 82,284  & 84,655  & NA & NA & NA & NA & NA\\\\\n",
       "\t North Coast          & 80,090  & 81,600  & 82,100  & 89,320  & 93,760  & NA & NA & NA & NA & NA\\\\\n",
       "\t North Okanagan       & 78,450  & 79,270  & 82,010  & 84,880  & 87,350  & NA & NA & NA & NA & NA\\\\\n",
       "\t Okanagan Similkameen & 69,380  & 70,920  & 73,890  & 76,410  & 80,250  & NA & NA & NA & NA & NA\\\\\n",
       "\t Peace River          & 109,162 & 100,921 & 109,189 & 111,380 & 112,899 & NA & NA & NA & NA & NA\\\\\n",
       "\t Qathet               & 71,440  & 71,260  & 73,320  & 75,500  & 76,660  & NA & NA & NA & NA & NA\\\\\n",
       "\t Squamish Lillooet    & 93,360  & 97,820  & 102,600 & 105,990 & 110,150 & NA & NA & NA & NA & NA\\\\\n",
       "\t Strathcona           & 77,890  & 77,900  & 80,980  & 83,480  & 84,600  & NA & NA & NA & NA & NA\\\\\n",
       "\t Thompson Nicola      & 86,550  & 86,990  & 90,030  & 92,380  & 94,920  & NA & NA & NA & NA & NA\\\\\n",
       "\\end{tabular}\n"
      ],
      "text/markdown": [
       "\n",
       "A data.frame: 22 × 11\n",
       "\n",
       "| Region &lt;chr&gt; | Year_2015 &lt;chr&gt; | Year_2016 &lt;chr&gt; | Year_2017 &lt;chr&gt; | Year_2018 &lt;chr&gt; | Year_2019 &lt;chr&gt; | X &lt;lgl&gt; | X.1 &lt;lgl&gt; | X.2 &lt;lgl&gt; | X.3 &lt;lgl&gt; | X.4 &lt;lgl&gt; |\n",
       "|---|---|---|---|---|---|---|---|---|---|---|\n",
       "| Alberni Clayoquot    | 68,420  | 68,630  | 69,880  | 72,500  | 74,500  | NA | NA | NA | NA | NA |\n",
       "| Capital              | 99,810  | 101,220 | 103,010 | 104,250 | 106,550 | NA | NA | NA | NA | NA |\n",
       "| Cariboo              | 80,592  | 80,066  | 83,317  | 85,522  | 85,415  | NA | NA | NA | NA | NA |\n",
       "| Central Kootenay     | <!----> | 74,380  | 77,510  | 79,820  | 82,160  | NA | NA | NA | NA | NA |\n",
       "| Central Okanagan     | 82,000  | 83,100  | 87,060  | 88,890  | 91,690  | NA | NA | NA | NA | NA |\n",
       "| Columbia Shuswap     | 74,410  | 75,320  | 78,730  | 80,580  | 83,010  | NA | NA | NA | NA | NA |\n",
       "| Comox Valley         | 76,020  | 77,210  | 81,620  | 83,120  | 86,090  | NA | NA | NA | NA | NA |\n",
       "| Cowichan Valley      | 71,940  | 72,860  | 75,730  | 78,840  | 80,230  | NA | NA | NA | NA | NA |\n",
       "| East Kootenay        | 86,310  | 85,680  | 88,900  | 91,360  | 93,160  | NA | NA | NA | NA | NA |\n",
       "| Fraser Fort George   | 92,050  | 91,770  | 95,400  | 97,910  | 100,130 | NA | NA | NA | NA | NA |\n",
       "| Fraser Valley        | 78,730  | 80,407  | 83,512  | 86,001  | 88,558  | NA | NA | NA | NA | NA |\n",
       "| Kitimat Stikine      | 85,770  | 86,450  | 87,860  | 91,400  | 98,590  | NA | NA | NA | NA | NA |\n",
       "| Metro Vancouver      | 79,930  | 82,510  | 86,140  | 89,000  | 91,750  | NA | NA | NA | NA | NA |\n",
       "| Nanaimo              | 76,205  | 76,912  | 79,821  | 82,284  | 84,655  | NA | NA | NA | NA | NA |\n",
       "| North Coast          | 80,090  | 81,600  | 82,100  | 89,320  | 93,760  | NA | NA | NA | NA | NA |\n",
       "| North Okanagan       | 78,450  | 79,270  | 82,010  | 84,880  | 87,350  | NA | NA | NA | NA | NA |\n",
       "| Okanagan Similkameen | 69,380  | 70,920  | 73,890  | 76,410  | 80,250  | NA | NA | NA | NA | NA |\n",
       "| Peace River          | 109,162 | 100,921 | 109,189 | 111,380 | 112,899 | NA | NA | NA | NA | NA |\n",
       "| Qathet               | 71,440  | 71,260  | 73,320  | 75,500  | 76,660  | NA | NA | NA | NA | NA |\n",
       "| Squamish Lillooet    | 93,360  | 97,820  | 102,600 | 105,990 | 110,150 | NA | NA | NA | NA | NA |\n",
       "| Strathcona           | 77,890  | 77,900  | 80,980  | 83,480  | 84,600  | NA | NA | NA | NA | NA |\n",
       "| Thompson Nicola      | 86,550  | 86,990  | 90,030  | 92,380  | 94,920  | NA | NA | NA | NA | NA |\n",
       "\n"
      ],
      "text/plain": [
       "   Region               Year_2015 Year_2016 Year_2017 Year_2018 Year_2019 X \n",
       "1  Alberni Clayoquot    68,420    68,630    69,880    72,500    74,500    NA\n",
       "2  Capital              99,810    101,220   103,010   104,250   106,550   NA\n",
       "3  Cariboo              80,592    80,066    83,317    85,522    85,415    NA\n",
       "4  Central Kootenay               74,380    77,510    79,820    82,160    NA\n",
       "5  Central Okanagan     82,000    83,100    87,060    88,890    91,690    NA\n",
       "6  Columbia Shuswap     74,410    75,320    78,730    80,580    83,010    NA\n",
       "7  Comox Valley         76,020    77,210    81,620    83,120    86,090    NA\n",
       "8  Cowichan Valley      71,940    72,860    75,730    78,840    80,230    NA\n",
       "9  East Kootenay        86,310    85,680    88,900    91,360    93,160    NA\n",
       "10 Fraser Fort George   92,050    91,770    95,400    97,910    100,130   NA\n",
       "11 Fraser Valley        78,730    80,407    83,512    86,001    88,558    NA\n",
       "12 Kitimat Stikine      85,770    86,450    87,860    91,400    98,590    NA\n",
       "13 Metro Vancouver      79,930    82,510    86,140    89,000    91,750    NA\n",
       "14 Nanaimo              76,205    76,912    79,821    82,284    84,655    NA\n",
       "15 North Coast          80,090    81,600    82,100    89,320    93,760    NA\n",
       "16 North Okanagan       78,450    79,270    82,010    84,880    87,350    NA\n",
       "17 Okanagan Similkameen 69,380    70,920    73,890    76,410    80,250    NA\n",
       "18 Peace River          109,162   100,921   109,189   111,380   112,899   NA\n",
       "19 Qathet               71,440    71,260    73,320    75,500    76,660    NA\n",
       "20 Squamish Lillooet    93,360    97,820    102,600   105,990   110,150   NA\n",
       "21 Strathcona           77,890    77,900    80,980    83,480    84,600    NA\n",
       "22 Thompson Nicola      86,550    86,990    90,030    92,380    94,920    NA\n",
       "   X.1 X.2 X.3 X.4\n",
       "1  NA  NA  NA  NA \n",
       "2  NA  NA  NA  NA \n",
       "3  NA  NA  NA  NA \n",
       "4  NA  NA  NA  NA \n",
       "5  NA  NA  NA  NA \n",
       "6  NA  NA  NA  NA \n",
       "7  NA  NA  NA  NA \n",
       "8  NA  NA  NA  NA \n",
       "9  NA  NA  NA  NA \n",
       "10 NA  NA  NA  NA \n",
       "11 NA  NA  NA  NA \n",
       "12 NA  NA  NA  NA \n",
       "13 NA  NA  NA  NA \n",
       "14 NA  NA  NA  NA \n",
       "15 NA  NA  NA  NA \n",
       "16 NA  NA  NA  NA \n",
       "17 NA  NA  NA  NA \n",
       "18 NA  NA  NA  NA \n",
       "19 NA  NA  NA  NA \n",
       "20 NA  NA  NA  NA \n",
       "21 NA  NA  NA  NA \n",
       "22 NA  NA  NA  NA "
      ]
     },
     "metadata": {},
     "output_type": "display_data"
    },
    {
     "data": {
      "text/html": [
       "<table class=\"dataframe\">\n",
       "<caption>A tibble: 23 × 6</caption>\n",
       "<thead>\n",
       "\t<tr><th scope=col>REGION</th><th scope=col>Year_2015</th><th scope=col>Year_2016</th><th scope=col>Year_2017</th><th scope=col>Year_2018</th><th scope=col>Year_2019</th></tr>\n",
       "\t<tr><th scope=col>&lt;chr&gt;</th><th scope=col>&lt;dbl&gt;</th><th scope=col>&lt;dbl&gt;</th><th scope=col>&lt;dbl&gt;</th><th scope=col>&lt;dbl&gt;</th><th scope=col>&lt;dbl&gt;</th></tr>\n",
       "</thead>\n",
       "<tbody>\n",
       "\t<tr><td>Alberni Clayoquot   </td><td> 98.76193</td><td>100.56679</td><td> 96.47319</td><td>112.92377</td><td>138.41150</td></tr>\n",
       "\t<tr><td>Capital             </td><td> 57.53442</td><td> 54.02410</td><td> 52.51044</td><td> 56.98354</td><td> 65.19813</td></tr>\n",
       "\t<tr><td>Cariboo             </td><td>108.37384</td><td>103.92038</td><td> 98.20793</td><td>105.77529</td><td>136.54883</td></tr>\n",
       "\t<tr><td>Central Kootenay    </td><td> 58.86374</td><td> 56.16195</td><td> 57.12425</td><td> 55.65332</td><td> 60.24604</td></tr>\n",
       "\t<tr><td>Central Okanagan    </td><td> 81.21511</td><td> 81.86729</td><td> 79.01776</td><td> 86.56440</td><td>106.85574</td></tr>\n",
       "\t<tr><td>Columbia Shuswap    </td><td> 56.18160</td><td> 52.02519</td><td> 48.16129</td><td> 51.70925</td><td> 63.82898</td></tr>\n",
       "\t<tr><td>Comox Valley        </td><td> 62.46854</td><td> 56.83697</td><td> 65.70745</td><td> 60.24299</td><td> 76.72511</td></tr>\n",
       "\t<tr><td>Cowichan Valley     </td><td> 78.96593</td><td> 77.59018</td><td> 73.74989</td><td> 76.25233</td><td>104.69254</td></tr>\n",
       "\t<tr><td>East Kootenay       </td><td> 55.36343</td><td> 51.19383</td><td> 54.70491</td><td> 54.57862</td><td> 59.09404</td></tr>\n",
       "\t<tr><td>Fraser Fort George  </td><td>123.58210</td><td>123.96063</td><td>132.15483</td><td>127.79110</td><td>200.54945</td></tr>\n",
       "\t<tr><td>Fraser Valley       </td><td> 89.79757</td><td> 89.65357</td><td> 84.71919</td><td> 88.86925</td><td> 95.58917</td></tr>\n",
       "\t<tr><td>Kitimat Stikine     </td><td>141.09338</td><td>134.54142</td><td>127.88021</td><td>133.62691</td><td>178.22060</td></tr>\n",
       "\t<tr><td>Metro Vancouver     </td><td> 72.65686</td><td> 71.95522</td><td> 68.26118</td><td> 67.67815</td><td> 73.15398</td></tr>\n",
       "\t<tr><td>Nanaimo             </td><td> 73.63842</td><td> 76.89694</td><td> 70.35261</td><td> 88.15466</td><td>106.46600</td></tr>\n",
       "\t<tr><td>North Coast         </td><td>168.97697</td><td>147.25829</td><td>129.12160</td><td>146.42894</td><td>185.88382</td></tr>\n",
       "\t<tr><td>North Okanagan      </td><td> 73.96792</td><td> 79.57622</td><td> 73.42456</td><td> 77.23595</td><td> 97.16927</td></tr>\n",
       "\t<tr><td>Northern Rockies    </td><td>158.24974</td><td>114.47275</td><td>111.71104</td><td>133.92684</td><td>171.29356</td></tr>\n",
       "\t<tr><td>Okanagan Similkameen</td><td> 89.82015</td><td> 88.94203</td><td> 95.36360</td><td>103.53723</td><td>136.64077</td></tr>\n",
       "\t<tr><td>Peace River         </td><td>100.87672</td><td> 83.60754</td><td> 78.31775</td><td> 77.47906</td><td>104.70693</td></tr>\n",
       "\t<tr><td>Qathet              </td><td> 56.01681</td><td> 56.41479</td><td> 51.62487</td><td> 62.31224</td><td> 98.96738</td></tr>\n",
       "\t<tr><td>Squamish Lillooet   </td><td> 87.05090</td><td> 80.26622</td><td> 79.25735</td><td> 69.47532</td><td> 77.44365</td></tr>\n",
       "\t<tr><td>Strathcona          </td><td> 92.44575</td><td> 95.02921</td><td> 81.43580</td><td> 83.47819</td><td>125.55813</td></tr>\n",
       "\t<tr><td>Thompson Nicola     </td><td> 89.72388</td><td>100.34742</td><td> 99.39260</td><td> 94.34360</td><td>112.81023</td></tr>\n",
       "</tbody>\n",
       "</table>\n"
      ],
      "text/latex": [
       "A tibble: 23 × 6\n",
       "\\begin{tabular}{llllll}\n",
       " REGION & Year\\_2015 & Year\\_2016 & Year\\_2017 & Year\\_2018 & Year\\_2019\\\\\n",
       " <chr> & <dbl> & <dbl> & <dbl> & <dbl> & <dbl>\\\\\n",
       "\\hline\n",
       "\t Alberni Clayoquot    &  98.76193 & 100.56679 &  96.47319 & 112.92377 & 138.41150\\\\\n",
       "\t Capital              &  57.53442 &  54.02410 &  52.51044 &  56.98354 &  65.19813\\\\\n",
       "\t Cariboo              & 108.37384 & 103.92038 &  98.20793 & 105.77529 & 136.54883\\\\\n",
       "\t Central Kootenay     &  58.86374 &  56.16195 &  57.12425 &  55.65332 &  60.24604\\\\\n",
       "\t Central Okanagan     &  81.21511 &  81.86729 &  79.01776 &  86.56440 & 106.85574\\\\\n",
       "\t Columbia Shuswap     &  56.18160 &  52.02519 &  48.16129 &  51.70925 &  63.82898\\\\\n",
       "\t Comox Valley         &  62.46854 &  56.83697 &  65.70745 &  60.24299 &  76.72511\\\\\n",
       "\t Cowichan Valley      &  78.96593 &  77.59018 &  73.74989 &  76.25233 & 104.69254\\\\\n",
       "\t East Kootenay        &  55.36343 &  51.19383 &  54.70491 &  54.57862 &  59.09404\\\\\n",
       "\t Fraser Fort George   & 123.58210 & 123.96063 & 132.15483 & 127.79110 & 200.54945\\\\\n",
       "\t Fraser Valley        &  89.79757 &  89.65357 &  84.71919 &  88.86925 &  95.58917\\\\\n",
       "\t Kitimat Stikine      & 141.09338 & 134.54142 & 127.88021 & 133.62691 & 178.22060\\\\\n",
       "\t Metro Vancouver      &  72.65686 &  71.95522 &  68.26118 &  67.67815 &  73.15398\\\\\n",
       "\t Nanaimo              &  73.63842 &  76.89694 &  70.35261 &  88.15466 & 106.46600\\\\\n",
       "\t North Coast          & 168.97697 & 147.25829 & 129.12160 & 146.42894 & 185.88382\\\\\n",
       "\t North Okanagan       &  73.96792 &  79.57622 &  73.42456 &  77.23595 &  97.16927\\\\\n",
       "\t Northern Rockies     & 158.24974 & 114.47275 & 111.71104 & 133.92684 & 171.29356\\\\\n",
       "\t Okanagan Similkameen &  89.82015 &  88.94203 &  95.36360 & 103.53723 & 136.64077\\\\\n",
       "\t Peace River          & 100.87672 &  83.60754 &  78.31775 &  77.47906 & 104.70693\\\\\n",
       "\t Qathet               &  56.01681 &  56.41479 &  51.62487 &  62.31224 &  98.96738\\\\\n",
       "\t Squamish Lillooet    &  87.05090 &  80.26622 &  79.25735 &  69.47532 &  77.44365\\\\\n",
       "\t Strathcona           &  92.44575 &  95.02921 &  81.43580 &  83.47819 & 125.55813\\\\\n",
       "\t Thompson Nicola      &  89.72388 & 100.34742 &  99.39260 &  94.34360 & 112.81023\\\\\n",
       "\\end{tabular}\n"
      ],
      "text/markdown": [
       "\n",
       "A tibble: 23 × 6\n",
       "\n",
       "| REGION &lt;chr&gt; | Year_2015 &lt;dbl&gt; | Year_2016 &lt;dbl&gt; | Year_2017 &lt;dbl&gt; | Year_2018 &lt;dbl&gt; | Year_2019 &lt;dbl&gt; |\n",
       "|---|---|---|---|---|---|\n",
       "| Alberni Clayoquot    |  98.76193 | 100.56679 |  96.47319 | 112.92377 | 138.41150 |\n",
       "| Capital              |  57.53442 |  54.02410 |  52.51044 |  56.98354 |  65.19813 |\n",
       "| Cariboo              | 108.37384 | 103.92038 |  98.20793 | 105.77529 | 136.54883 |\n",
       "| Central Kootenay     |  58.86374 |  56.16195 |  57.12425 |  55.65332 |  60.24604 |\n",
       "| Central Okanagan     |  81.21511 |  81.86729 |  79.01776 |  86.56440 | 106.85574 |\n",
       "| Columbia Shuswap     |  56.18160 |  52.02519 |  48.16129 |  51.70925 |  63.82898 |\n",
       "| Comox Valley         |  62.46854 |  56.83697 |  65.70745 |  60.24299 |  76.72511 |\n",
       "| Cowichan Valley      |  78.96593 |  77.59018 |  73.74989 |  76.25233 | 104.69254 |\n",
       "| East Kootenay        |  55.36343 |  51.19383 |  54.70491 |  54.57862 |  59.09404 |\n",
       "| Fraser Fort George   | 123.58210 | 123.96063 | 132.15483 | 127.79110 | 200.54945 |\n",
       "| Fraser Valley        |  89.79757 |  89.65357 |  84.71919 |  88.86925 |  95.58917 |\n",
       "| Kitimat Stikine      | 141.09338 | 134.54142 | 127.88021 | 133.62691 | 178.22060 |\n",
       "| Metro Vancouver      |  72.65686 |  71.95522 |  68.26118 |  67.67815 |  73.15398 |\n",
       "| Nanaimo              |  73.63842 |  76.89694 |  70.35261 |  88.15466 | 106.46600 |\n",
       "| North Coast          | 168.97697 | 147.25829 | 129.12160 | 146.42894 | 185.88382 |\n",
       "| North Okanagan       |  73.96792 |  79.57622 |  73.42456 |  77.23595 |  97.16927 |\n",
       "| Northern Rockies     | 158.24974 | 114.47275 | 111.71104 | 133.92684 | 171.29356 |\n",
       "| Okanagan Similkameen |  89.82015 |  88.94203 |  95.36360 | 103.53723 | 136.64077 |\n",
       "| Peace River          | 100.87672 |  83.60754 |  78.31775 |  77.47906 | 104.70693 |\n",
       "| Qathet               |  56.01681 |  56.41479 |  51.62487 |  62.31224 |  98.96738 |\n",
       "| Squamish Lillooet    |  87.05090 |  80.26622 |  79.25735 |  69.47532 |  77.44365 |\n",
       "| Strathcona           |  92.44575 |  95.02921 |  81.43580 |  83.47819 | 125.55813 |\n",
       "| Thompson Nicola      |  89.72388 | 100.34742 |  99.39260 |  94.34360 | 112.81023 |\n",
       "\n"
      ],
      "text/plain": [
       "   REGION               Year_2015 Year_2016 Year_2017 Year_2018 Year_2019\n",
       "1  Alberni Clayoquot     98.76193 100.56679  96.47319 112.92377 138.41150\n",
       "2  Capital               57.53442  54.02410  52.51044  56.98354  65.19813\n",
       "3  Cariboo              108.37384 103.92038  98.20793 105.77529 136.54883\n",
       "4  Central Kootenay      58.86374  56.16195  57.12425  55.65332  60.24604\n",
       "5  Central Okanagan      81.21511  81.86729  79.01776  86.56440 106.85574\n",
       "6  Columbia Shuswap      56.18160  52.02519  48.16129  51.70925  63.82898\n",
       "7  Comox Valley          62.46854  56.83697  65.70745  60.24299  76.72511\n",
       "8  Cowichan Valley       78.96593  77.59018  73.74989  76.25233 104.69254\n",
       "9  East Kootenay         55.36343  51.19383  54.70491  54.57862  59.09404\n",
       "10 Fraser Fort George   123.58210 123.96063 132.15483 127.79110 200.54945\n",
       "11 Fraser Valley         89.79757  89.65357  84.71919  88.86925  95.58917\n",
       "12 Kitimat Stikine      141.09338 134.54142 127.88021 133.62691 178.22060\n",
       "13 Metro Vancouver       72.65686  71.95522  68.26118  67.67815  73.15398\n",
       "14 Nanaimo               73.63842  76.89694  70.35261  88.15466 106.46600\n",
       "15 North Coast          168.97697 147.25829 129.12160 146.42894 185.88382\n",
       "16 North Okanagan        73.96792  79.57622  73.42456  77.23595  97.16927\n",
       "17 Northern Rockies     158.24974 114.47275 111.71104 133.92684 171.29356\n",
       "18 Okanagan Similkameen  89.82015  88.94203  95.36360 103.53723 136.64077\n",
       "19 Peace River          100.87672  83.60754  78.31775  77.47906 104.70693\n",
       "20 Qathet                56.01681  56.41479  51.62487  62.31224  98.96738\n",
       "21 Squamish Lillooet     87.05090  80.26622  79.25735  69.47532  77.44365\n",
       "22 Strathcona            92.44575  95.02921  81.43580  83.47819 125.55813\n",
       "23 Thompson Nicola       89.72388 100.34742  99.39260  94.34360 112.81023"
      ]
     },
     "metadata": {},
     "output_type": "display_data"
    }
   ],
   "source": [
    "idf\n",
    "cdf"
   ]
  },
  {
   "cell_type": "code",
   "execution_count": 4,
   "metadata": {
    "vscode": {
     "languageId": "r"
    }
   },
   "outputs": [],
   "source": [
    "idf <- subset(idf, select = -c(X, X.1, X.2, X.3, X.4))\n"
   ]
  },
  {
   "cell_type": "code",
   "execution_count": 5,
   "metadata": {
    "vscode": {
     "languageId": "r"
    }
   },
   "outputs": [
    {
     "data": {
      "text/html": [
       "<table class=\"dataframe\">\n",
       "<caption>A data.frame: 6 × 6</caption>\n",
       "<thead>\n",
       "\t<tr><th></th><th scope=col>Region</th><th scope=col>Year_2015</th><th scope=col>Year_2016</th><th scope=col>Year_2017</th><th scope=col>Year_2018</th><th scope=col>Year_2019</th></tr>\n",
       "\t<tr><th></th><th scope=col>&lt;chr&gt;</th><th scope=col>&lt;chr&gt;</th><th scope=col>&lt;chr&gt;</th><th scope=col>&lt;chr&gt;</th><th scope=col>&lt;chr&gt;</th><th scope=col>&lt;chr&gt;</th></tr>\n",
       "</thead>\n",
       "<tbody>\n",
       "\t<tr><th scope=row>1</th><td>Alberni Clayoquot</td><td>68,420</td><td>68,630 </td><td>69,880 </td><td>72,500 </td><td>74,500 </td></tr>\n",
       "\t<tr><th scope=row>2</th><td>Capital          </td><td>99,810</td><td>101,220</td><td>103,010</td><td>104,250</td><td>106,550</td></tr>\n",
       "\t<tr><th scope=row>3</th><td>Cariboo          </td><td>80,592</td><td>80,066 </td><td>83,317 </td><td>85,522 </td><td>85,415 </td></tr>\n",
       "\t<tr><th scope=row>4</th><td>Central Kootenay </td><td>      </td><td>74,380 </td><td>77,510 </td><td>79,820 </td><td>82,160 </td></tr>\n",
       "\t<tr><th scope=row>5</th><td>Central Okanagan </td><td>82,000</td><td>83,100 </td><td>87,060 </td><td>88,890 </td><td>91,690 </td></tr>\n",
       "\t<tr><th scope=row>6</th><td>Columbia Shuswap </td><td>74,410</td><td>75,320 </td><td>78,730 </td><td>80,580 </td><td>83,010 </td></tr>\n",
       "</tbody>\n",
       "</table>\n"
      ],
      "text/latex": [
       "A data.frame: 6 × 6\n",
       "\\begin{tabular}{r|llllll}\n",
       "  & Region & Year\\_2015 & Year\\_2016 & Year\\_2017 & Year\\_2018 & Year\\_2019\\\\\n",
       "  & <chr> & <chr> & <chr> & <chr> & <chr> & <chr>\\\\\n",
       "\\hline\n",
       "\t1 & Alberni Clayoquot & 68,420 & 68,630  & 69,880  & 72,500  & 74,500 \\\\\n",
       "\t2 & Capital           & 99,810 & 101,220 & 103,010 & 104,250 & 106,550\\\\\n",
       "\t3 & Cariboo           & 80,592 & 80,066  & 83,317  & 85,522  & 85,415 \\\\\n",
       "\t4 & Central Kootenay  &        & 74,380  & 77,510  & 79,820  & 82,160 \\\\\n",
       "\t5 & Central Okanagan  & 82,000 & 83,100  & 87,060  & 88,890  & 91,690 \\\\\n",
       "\t6 & Columbia Shuswap  & 74,410 & 75,320  & 78,730  & 80,580  & 83,010 \\\\\n",
       "\\end{tabular}\n"
      ],
      "text/markdown": [
       "\n",
       "A data.frame: 6 × 6\n",
       "\n",
       "| <!--/--> | Region &lt;chr&gt; | Year_2015 &lt;chr&gt; | Year_2016 &lt;chr&gt; | Year_2017 &lt;chr&gt; | Year_2018 &lt;chr&gt; | Year_2019 &lt;chr&gt; |\n",
       "|---|---|---|---|---|---|---|\n",
       "| 1 | Alberni Clayoquot | 68,420 | 68,630  | 69,880  | 72,500  | 74,500  |\n",
       "| 2 | Capital           | 99,810 | 101,220 | 103,010 | 104,250 | 106,550 |\n",
       "| 3 | Cariboo           | 80,592 | 80,066  | 83,317  | 85,522  | 85,415  |\n",
       "| 4 | Central Kootenay  | <!----> | 74,380  | 77,510  | 79,820  | 82,160  |\n",
       "| 5 | Central Okanagan  | 82,000 | 83,100  | 87,060  | 88,890  | 91,690  |\n",
       "| 6 | Columbia Shuswap  | 74,410 | 75,320  | 78,730  | 80,580  | 83,010  |\n",
       "\n"
      ],
      "text/plain": [
       "  Region            Year_2015 Year_2016 Year_2017 Year_2018 Year_2019\n",
       "1 Alberni Clayoquot 68,420    68,630    69,880    72,500    74,500   \n",
       "2 Capital           99,810    101,220   103,010   104,250   106,550  \n",
       "3 Cariboo           80,592    80,066    83,317    85,522    85,415   \n",
       "4 Central Kootenay            74,380    77,510    79,820    82,160   \n",
       "5 Central Okanagan  82,000    83,100    87,060    88,890    91,690   \n",
       "6 Columbia Shuswap  74,410    75,320    78,730    80,580    83,010   "
      ]
     },
     "metadata": {},
     "output_type": "display_data"
    }
   ],
   "source": [
    "head(idf)"
   ]
  },
  {
   "cell_type": "code",
   "execution_count": 6,
   "metadata": {
    "vscode": {
     "languageId": "r"
    }
   },
   "outputs": [],
   "source": [
    "cdf <- rename(cdf, Region = REGION)"
   ]
  },
  {
   "cell_type": "code",
   "execution_count": 7,
   "metadata": {
    "vscode": {
     "languageId": "r"
    }
   },
   "outputs": [
    {
     "data": {
      "text/html": [
       "<table class=\"dataframe\">\n",
       "<caption>A tibble: 6 × 6</caption>\n",
       "<thead>\n",
       "\t<tr><th scope=col>Region</th><th scope=col>Year_2015</th><th scope=col>Year_2016</th><th scope=col>Year_2017</th><th scope=col>Year_2018</th><th scope=col>Year_2019</th></tr>\n",
       "\t<tr><th scope=col>&lt;chr&gt;</th><th scope=col>&lt;dbl&gt;</th><th scope=col>&lt;dbl&gt;</th><th scope=col>&lt;dbl&gt;</th><th scope=col>&lt;dbl&gt;</th><th scope=col>&lt;dbl&gt;</th></tr>\n",
       "</thead>\n",
       "<tbody>\n",
       "\t<tr><td>Alberni Clayoquot</td><td> 98.76193</td><td>100.56679</td><td>96.47319</td><td>112.92377</td><td>138.41150</td></tr>\n",
       "\t<tr><td>Capital          </td><td> 57.53442</td><td> 54.02410</td><td>52.51044</td><td> 56.98354</td><td> 65.19813</td></tr>\n",
       "\t<tr><td>Cariboo          </td><td>108.37384</td><td>103.92038</td><td>98.20793</td><td>105.77529</td><td>136.54883</td></tr>\n",
       "\t<tr><td>Central Kootenay </td><td> 58.86374</td><td> 56.16195</td><td>57.12425</td><td> 55.65332</td><td> 60.24604</td></tr>\n",
       "\t<tr><td>Central Okanagan </td><td> 81.21511</td><td> 81.86729</td><td>79.01776</td><td> 86.56440</td><td>106.85574</td></tr>\n",
       "\t<tr><td>Columbia Shuswap </td><td> 56.18160</td><td> 52.02519</td><td>48.16129</td><td> 51.70925</td><td> 63.82898</td></tr>\n",
       "</tbody>\n",
       "</table>\n"
      ],
      "text/latex": [
       "A tibble: 6 × 6\n",
       "\\begin{tabular}{llllll}\n",
       " Region & Year\\_2015 & Year\\_2016 & Year\\_2017 & Year\\_2018 & Year\\_2019\\\\\n",
       " <chr> & <dbl> & <dbl> & <dbl> & <dbl> & <dbl>\\\\\n",
       "\\hline\n",
       "\t Alberni Clayoquot &  98.76193 & 100.56679 & 96.47319 & 112.92377 & 138.41150\\\\\n",
       "\t Capital           &  57.53442 &  54.02410 & 52.51044 &  56.98354 &  65.19813\\\\\n",
       "\t Cariboo           & 108.37384 & 103.92038 & 98.20793 & 105.77529 & 136.54883\\\\\n",
       "\t Central Kootenay  &  58.86374 &  56.16195 & 57.12425 &  55.65332 &  60.24604\\\\\n",
       "\t Central Okanagan  &  81.21511 &  81.86729 & 79.01776 &  86.56440 & 106.85574\\\\\n",
       "\t Columbia Shuswap  &  56.18160 &  52.02519 & 48.16129 &  51.70925 &  63.82898\\\\\n",
       "\\end{tabular}\n"
      ],
      "text/markdown": [
       "\n",
       "A tibble: 6 × 6\n",
       "\n",
       "| Region &lt;chr&gt; | Year_2015 &lt;dbl&gt; | Year_2016 &lt;dbl&gt; | Year_2017 &lt;dbl&gt; | Year_2018 &lt;dbl&gt; | Year_2019 &lt;dbl&gt; |\n",
       "|---|---|---|---|---|---|\n",
       "| Alberni Clayoquot |  98.76193 | 100.56679 | 96.47319 | 112.92377 | 138.41150 |\n",
       "| Capital           |  57.53442 |  54.02410 | 52.51044 |  56.98354 |  65.19813 |\n",
       "| Cariboo           | 108.37384 | 103.92038 | 98.20793 | 105.77529 | 136.54883 |\n",
       "| Central Kootenay  |  58.86374 |  56.16195 | 57.12425 |  55.65332 |  60.24604 |\n",
       "| Central Okanagan  |  81.21511 |  81.86729 | 79.01776 |  86.56440 | 106.85574 |\n",
       "| Columbia Shuswap  |  56.18160 |  52.02519 | 48.16129 |  51.70925 |  63.82898 |\n",
       "\n"
      ],
      "text/plain": [
       "  Region            Year_2015 Year_2016 Year_2017 Year_2018 Year_2019\n",
       "1 Alberni Clayoquot  98.76193 100.56679 96.47319  112.92377 138.41150\n",
       "2 Capital            57.53442  54.02410 52.51044   56.98354  65.19813\n",
       "3 Cariboo           108.37384 103.92038 98.20793  105.77529 136.54883\n",
       "4 Central Kootenay   58.86374  56.16195 57.12425   55.65332  60.24604\n",
       "5 Central Okanagan   81.21511  81.86729 79.01776   86.56440 106.85574\n",
       "6 Columbia Shuswap   56.18160  52.02519 48.16129   51.70925  63.82898"
      ]
     },
     "metadata": {},
     "output_type": "display_data"
    },
    {
     "data": {
      "text/html": [
       "<table class=\"dataframe\">\n",
       "<caption>A data.frame: 6 × 6</caption>\n",
       "<thead>\n",
       "\t<tr><th></th><th scope=col>Region</th><th scope=col>Year_2015</th><th scope=col>Year_2016</th><th scope=col>Year_2017</th><th scope=col>Year_2018</th><th scope=col>Year_2019</th></tr>\n",
       "\t<tr><th></th><th scope=col>&lt;chr&gt;</th><th scope=col>&lt;chr&gt;</th><th scope=col>&lt;chr&gt;</th><th scope=col>&lt;chr&gt;</th><th scope=col>&lt;chr&gt;</th><th scope=col>&lt;chr&gt;</th></tr>\n",
       "</thead>\n",
       "<tbody>\n",
       "\t<tr><th scope=row>1</th><td>Alberni Clayoquot</td><td>68,420</td><td>68,630 </td><td>69,880 </td><td>72,500 </td><td>74,500 </td></tr>\n",
       "\t<tr><th scope=row>2</th><td>Capital          </td><td>99,810</td><td>101,220</td><td>103,010</td><td>104,250</td><td>106,550</td></tr>\n",
       "\t<tr><th scope=row>3</th><td>Cariboo          </td><td>80,592</td><td>80,066 </td><td>83,317 </td><td>85,522 </td><td>85,415 </td></tr>\n",
       "\t<tr><th scope=row>4</th><td>Central Kootenay </td><td>      </td><td>74,380 </td><td>77,510 </td><td>79,820 </td><td>82,160 </td></tr>\n",
       "\t<tr><th scope=row>5</th><td>Central Okanagan </td><td>82,000</td><td>83,100 </td><td>87,060 </td><td>88,890 </td><td>91,690 </td></tr>\n",
       "\t<tr><th scope=row>6</th><td>Columbia Shuswap </td><td>74,410</td><td>75,320 </td><td>78,730 </td><td>80,580 </td><td>83,010 </td></tr>\n",
       "</tbody>\n",
       "</table>\n"
      ],
      "text/latex": [
       "A data.frame: 6 × 6\n",
       "\\begin{tabular}{r|llllll}\n",
       "  & Region & Year\\_2015 & Year\\_2016 & Year\\_2017 & Year\\_2018 & Year\\_2019\\\\\n",
       "  & <chr> & <chr> & <chr> & <chr> & <chr> & <chr>\\\\\n",
       "\\hline\n",
       "\t1 & Alberni Clayoquot & 68,420 & 68,630  & 69,880  & 72,500  & 74,500 \\\\\n",
       "\t2 & Capital           & 99,810 & 101,220 & 103,010 & 104,250 & 106,550\\\\\n",
       "\t3 & Cariboo           & 80,592 & 80,066  & 83,317  & 85,522  & 85,415 \\\\\n",
       "\t4 & Central Kootenay  &        & 74,380  & 77,510  & 79,820  & 82,160 \\\\\n",
       "\t5 & Central Okanagan  & 82,000 & 83,100  & 87,060  & 88,890  & 91,690 \\\\\n",
       "\t6 & Columbia Shuswap  & 74,410 & 75,320  & 78,730  & 80,580  & 83,010 \\\\\n",
       "\\end{tabular}\n"
      ],
      "text/markdown": [
       "\n",
       "A data.frame: 6 × 6\n",
       "\n",
       "| <!--/--> | Region &lt;chr&gt; | Year_2015 &lt;chr&gt; | Year_2016 &lt;chr&gt; | Year_2017 &lt;chr&gt; | Year_2018 &lt;chr&gt; | Year_2019 &lt;chr&gt; |\n",
       "|---|---|---|---|---|---|---|\n",
       "| 1 | Alberni Clayoquot | 68,420 | 68,630  | 69,880  | 72,500  | 74,500  |\n",
       "| 2 | Capital           | 99,810 | 101,220 | 103,010 | 104,250 | 106,550 |\n",
       "| 3 | Cariboo           | 80,592 | 80,066  | 83,317  | 85,522  | 85,415  |\n",
       "| 4 | Central Kootenay  | <!----> | 74,380  | 77,510  | 79,820  | 82,160  |\n",
       "| 5 | Central Okanagan  | 82,000 | 83,100  | 87,060  | 88,890  | 91,690  |\n",
       "| 6 | Columbia Shuswap  | 74,410 | 75,320  | 78,730  | 80,580  | 83,010  |\n",
       "\n"
      ],
      "text/plain": [
       "  Region            Year_2015 Year_2016 Year_2017 Year_2018 Year_2019\n",
       "1 Alberni Clayoquot 68,420    68,630    69,880    72,500    74,500   \n",
       "2 Capital           99,810    101,220   103,010   104,250   106,550  \n",
       "3 Cariboo           80,592    80,066    83,317    85,522    85,415   \n",
       "4 Central Kootenay            74,380    77,510    79,820    82,160   \n",
       "5 Central Okanagan  82,000    83,100    87,060    88,890    91,690   \n",
       "6 Columbia Shuswap  74,410    75,320    78,730    80,580    83,010   "
      ]
     },
     "metadata": {},
     "output_type": "display_data"
    }
   ],
   "source": [
    "head(cdf)\n",
    "head(idf)"
   ]
  },
  {
   "cell_type": "code",
   "execution_count": 8,
   "metadata": {
    "vscode": {
     "languageId": "r"
    }
   },
   "outputs": [],
   "source": [
    "cdf <- pivot_longer(cdf, cols = starts_with(\"Year\"), names_to = \"Year\", values_to = \"CrimeRate\")\n",
    "idf <- pivot_longer(idf, cols = starts_with(\"Year\"), names_to = \"Year\", values_to = \"Income\")\n"
   ]
  },
  {
   "cell_type": "code",
   "execution_count": 9,
   "metadata": {
    "vscode": {
     "languageId": "r"
    }
   },
   "outputs": [
    {
     "data": {
      "text/html": [
       "<table class=\"dataframe\">\n",
       "<caption>A tibble: 6 × 3</caption>\n",
       "<thead>\n",
       "\t<tr><th scope=col>Region</th><th scope=col>Year</th><th scope=col>CrimeRate</th></tr>\n",
       "\t<tr><th scope=col>&lt;chr&gt;</th><th scope=col>&lt;chr&gt;</th><th scope=col>&lt;dbl&gt;</th></tr>\n",
       "</thead>\n",
       "<tbody>\n",
       "\t<tr><td>Alberni Clayoquot</td><td>Year_2015</td><td> 98.76193</td></tr>\n",
       "\t<tr><td>Alberni Clayoquot</td><td>Year_2016</td><td>100.56679</td></tr>\n",
       "\t<tr><td>Alberni Clayoquot</td><td>Year_2017</td><td> 96.47319</td></tr>\n",
       "\t<tr><td>Alberni Clayoquot</td><td>Year_2018</td><td>112.92377</td></tr>\n",
       "\t<tr><td>Alberni Clayoquot</td><td>Year_2019</td><td>138.41150</td></tr>\n",
       "\t<tr><td>Capital          </td><td>Year_2015</td><td> 57.53442</td></tr>\n",
       "</tbody>\n",
       "</table>\n"
      ],
      "text/latex": [
       "A tibble: 6 × 3\n",
       "\\begin{tabular}{lll}\n",
       " Region & Year & CrimeRate\\\\\n",
       " <chr> & <chr> & <dbl>\\\\\n",
       "\\hline\n",
       "\t Alberni Clayoquot & Year\\_2015 &  98.76193\\\\\n",
       "\t Alberni Clayoquot & Year\\_2016 & 100.56679\\\\\n",
       "\t Alberni Clayoquot & Year\\_2017 &  96.47319\\\\\n",
       "\t Alberni Clayoquot & Year\\_2018 & 112.92377\\\\\n",
       "\t Alberni Clayoquot & Year\\_2019 & 138.41150\\\\\n",
       "\t Capital           & Year\\_2015 &  57.53442\\\\\n",
       "\\end{tabular}\n"
      ],
      "text/markdown": [
       "\n",
       "A tibble: 6 × 3\n",
       "\n",
       "| Region &lt;chr&gt; | Year &lt;chr&gt; | CrimeRate &lt;dbl&gt; |\n",
       "|---|---|---|\n",
       "| Alberni Clayoquot | Year_2015 |  98.76193 |\n",
       "| Alberni Clayoquot | Year_2016 | 100.56679 |\n",
       "| Alberni Clayoquot | Year_2017 |  96.47319 |\n",
       "| Alberni Clayoquot | Year_2018 | 112.92377 |\n",
       "| Alberni Clayoquot | Year_2019 | 138.41150 |\n",
       "| Capital           | Year_2015 |  57.53442 |\n",
       "\n"
      ],
      "text/plain": [
       "  Region            Year      CrimeRate\n",
       "1 Alberni Clayoquot Year_2015  98.76193\n",
       "2 Alberni Clayoquot Year_2016 100.56679\n",
       "3 Alberni Clayoquot Year_2017  96.47319\n",
       "4 Alberni Clayoquot Year_2018 112.92377\n",
       "5 Alberni Clayoquot Year_2019 138.41150\n",
       "6 Capital           Year_2015  57.53442"
      ]
     },
     "metadata": {},
     "output_type": "display_data"
    },
    {
     "data": {
      "text/html": [
       "<table class=\"dataframe\">\n",
       "<caption>A tibble: 6 × 3</caption>\n",
       "<thead>\n",
       "\t<tr><th scope=col>Region</th><th scope=col>Year</th><th scope=col>Income</th></tr>\n",
       "\t<tr><th scope=col>&lt;chr&gt;</th><th scope=col>&lt;chr&gt;</th><th scope=col>&lt;chr&gt;</th></tr>\n",
       "</thead>\n",
       "<tbody>\n",
       "\t<tr><td>Alberni Clayoquot</td><td>Year_2015</td><td>68,420</td></tr>\n",
       "\t<tr><td>Alberni Clayoquot</td><td>Year_2016</td><td>68,630</td></tr>\n",
       "\t<tr><td>Alberni Clayoquot</td><td>Year_2017</td><td>69,880</td></tr>\n",
       "\t<tr><td>Alberni Clayoquot</td><td>Year_2018</td><td>72,500</td></tr>\n",
       "\t<tr><td>Alberni Clayoquot</td><td>Year_2019</td><td>74,500</td></tr>\n",
       "\t<tr><td>Capital          </td><td>Year_2015</td><td>99,810</td></tr>\n",
       "</tbody>\n",
       "</table>\n"
      ],
      "text/latex": [
       "A tibble: 6 × 3\n",
       "\\begin{tabular}{lll}\n",
       " Region & Year & Income\\\\\n",
       " <chr> & <chr> & <chr>\\\\\n",
       "\\hline\n",
       "\t Alberni Clayoquot & Year\\_2015 & 68,420\\\\\n",
       "\t Alberni Clayoquot & Year\\_2016 & 68,630\\\\\n",
       "\t Alberni Clayoquot & Year\\_2017 & 69,880\\\\\n",
       "\t Alberni Clayoquot & Year\\_2018 & 72,500\\\\\n",
       "\t Alberni Clayoquot & Year\\_2019 & 74,500\\\\\n",
       "\t Capital           & Year\\_2015 & 99,810\\\\\n",
       "\\end{tabular}\n"
      ],
      "text/markdown": [
       "\n",
       "A tibble: 6 × 3\n",
       "\n",
       "| Region &lt;chr&gt; | Year &lt;chr&gt; | Income &lt;chr&gt; |\n",
       "|---|---|---|\n",
       "| Alberni Clayoquot | Year_2015 | 68,420 |\n",
       "| Alberni Clayoquot | Year_2016 | 68,630 |\n",
       "| Alberni Clayoquot | Year_2017 | 69,880 |\n",
       "| Alberni Clayoquot | Year_2018 | 72,500 |\n",
       "| Alberni Clayoquot | Year_2019 | 74,500 |\n",
       "| Capital           | Year_2015 | 99,810 |\n",
       "\n"
      ],
      "text/plain": [
       "  Region            Year      Income\n",
       "1 Alberni Clayoquot Year_2015 68,420\n",
       "2 Alberni Clayoquot Year_2016 68,630\n",
       "3 Alberni Clayoquot Year_2017 69,880\n",
       "4 Alberni Clayoquot Year_2018 72,500\n",
       "5 Alberni Clayoquot Year_2019 74,500\n",
       "6 Capital           Year_2015 99,810"
      ]
     },
     "metadata": {},
     "output_type": "display_data"
    }
   ],
   "source": [
    "head(cdf)\n",
    "head(idf)"
   ]
  },
  {
   "cell_type": "code",
   "execution_count": 10,
   "metadata": {
    "vscode": {
     "languageId": "r"
    }
   },
   "outputs": [],
   "source": [
    "tdata <- merge(cdf, idf, by = c(\"Region\", \"Year\"))\n"
   ]
  },
  {
   "cell_type": "code",
   "execution_count": 11,
   "metadata": {
    "vscode": {
     "languageId": "r"
    }
   },
   "outputs": [
    {
     "data": {
      "text/html": [
       "<table class=\"dataframe\">\n",
       "<caption>A data.frame: 6 × 4</caption>\n",
       "<thead>\n",
       "\t<tr><th></th><th scope=col>Region</th><th scope=col>Year</th><th scope=col>CrimeRate</th><th scope=col>Income</th></tr>\n",
       "\t<tr><th></th><th scope=col>&lt;chr&gt;</th><th scope=col>&lt;chr&gt;</th><th scope=col>&lt;dbl&gt;</th><th scope=col>&lt;chr&gt;</th></tr>\n",
       "</thead>\n",
       "<tbody>\n",
       "\t<tr><th scope=row>1</th><td>Alberni Clayoquot</td><td>Year_2015</td><td> 98.76193</td><td>68,420</td></tr>\n",
       "\t<tr><th scope=row>2</th><td>Alberni Clayoquot</td><td>Year_2016</td><td>100.56679</td><td>68,630</td></tr>\n",
       "\t<tr><th scope=row>3</th><td>Alberni Clayoquot</td><td>Year_2017</td><td> 96.47319</td><td>69,880</td></tr>\n",
       "\t<tr><th scope=row>4</th><td>Alberni Clayoquot</td><td>Year_2018</td><td>112.92377</td><td>72,500</td></tr>\n",
       "\t<tr><th scope=row>5</th><td>Alberni Clayoquot</td><td>Year_2019</td><td>138.41150</td><td>74,500</td></tr>\n",
       "\t<tr><th scope=row>6</th><td>Capital          </td><td>Year_2015</td><td> 57.53442</td><td>99,810</td></tr>\n",
       "</tbody>\n",
       "</table>\n"
      ],
      "text/latex": [
       "A data.frame: 6 × 4\n",
       "\\begin{tabular}{r|llll}\n",
       "  & Region & Year & CrimeRate & Income\\\\\n",
       "  & <chr> & <chr> & <dbl> & <chr>\\\\\n",
       "\\hline\n",
       "\t1 & Alberni Clayoquot & Year\\_2015 &  98.76193 & 68,420\\\\\n",
       "\t2 & Alberni Clayoquot & Year\\_2016 & 100.56679 & 68,630\\\\\n",
       "\t3 & Alberni Clayoquot & Year\\_2017 &  96.47319 & 69,880\\\\\n",
       "\t4 & Alberni Clayoquot & Year\\_2018 & 112.92377 & 72,500\\\\\n",
       "\t5 & Alberni Clayoquot & Year\\_2019 & 138.41150 & 74,500\\\\\n",
       "\t6 & Capital           & Year\\_2015 &  57.53442 & 99,810\\\\\n",
       "\\end{tabular}\n"
      ],
      "text/markdown": [
       "\n",
       "A data.frame: 6 × 4\n",
       "\n",
       "| <!--/--> | Region &lt;chr&gt; | Year &lt;chr&gt; | CrimeRate &lt;dbl&gt; | Income &lt;chr&gt; |\n",
       "|---|---|---|---|---|\n",
       "| 1 | Alberni Clayoquot | Year_2015 |  98.76193 | 68,420 |\n",
       "| 2 | Alberni Clayoquot | Year_2016 | 100.56679 | 68,630 |\n",
       "| 3 | Alberni Clayoquot | Year_2017 |  96.47319 | 69,880 |\n",
       "| 4 | Alberni Clayoquot | Year_2018 | 112.92377 | 72,500 |\n",
       "| 5 | Alberni Clayoquot | Year_2019 | 138.41150 | 74,500 |\n",
       "| 6 | Capital           | Year_2015 |  57.53442 | 99,810 |\n",
       "\n"
      ],
      "text/plain": [
       "  Region            Year      CrimeRate Income\n",
       "1 Alberni Clayoquot Year_2015  98.76193 68,420\n",
       "2 Alberni Clayoquot Year_2016 100.56679 68,630\n",
       "3 Alberni Clayoquot Year_2017  96.47319 69,880\n",
       "4 Alberni Clayoquot Year_2018 112.92377 72,500\n",
       "5 Alberni Clayoquot Year_2019 138.41150 74,500\n",
       "6 Capital           Year_2015  57.53442 99,810"
      ]
     },
     "metadata": {},
     "output_type": "display_data"
    }
   ],
   "source": [
    "head(tdata)"
   ]
  },
  {
   "cell_type": "code",
   "execution_count": 12,
   "metadata": {
    "vscode": {
     "languageId": "r"
    }
   },
   "outputs": [],
   "source": [
    "tdata$Year <- sub(\"Year_\", \"\", tdata$Year)"
   ]
  },
  {
   "cell_type": "code",
   "execution_count": 13,
   "metadata": {
    "vscode": {
     "languageId": "r"
    }
   },
   "outputs": [
    {
     "data": {
      "text/html": [
       "<table class=\"dataframe\">\n",
       "<caption>A data.frame: 6 × 4</caption>\n",
       "<thead>\n",
       "\t<tr><th></th><th scope=col>Region</th><th scope=col>Year</th><th scope=col>CrimeRate</th><th scope=col>Income</th></tr>\n",
       "\t<tr><th></th><th scope=col>&lt;chr&gt;</th><th scope=col>&lt;chr&gt;</th><th scope=col>&lt;dbl&gt;</th><th scope=col>&lt;chr&gt;</th></tr>\n",
       "</thead>\n",
       "<tbody>\n",
       "\t<tr><th scope=row>1</th><td>Alberni Clayoquot</td><td>2015</td><td> 98.76193</td><td>68,420</td></tr>\n",
       "\t<tr><th scope=row>2</th><td>Alberni Clayoquot</td><td>2016</td><td>100.56679</td><td>68,630</td></tr>\n",
       "\t<tr><th scope=row>3</th><td>Alberni Clayoquot</td><td>2017</td><td> 96.47319</td><td>69,880</td></tr>\n",
       "\t<tr><th scope=row>4</th><td>Alberni Clayoquot</td><td>2018</td><td>112.92377</td><td>72,500</td></tr>\n",
       "\t<tr><th scope=row>5</th><td>Alberni Clayoquot</td><td>2019</td><td>138.41150</td><td>74,500</td></tr>\n",
       "\t<tr><th scope=row>6</th><td>Capital          </td><td>2015</td><td> 57.53442</td><td>99,810</td></tr>\n",
       "</tbody>\n",
       "</table>\n"
      ],
      "text/latex": [
       "A data.frame: 6 × 4\n",
       "\\begin{tabular}{r|llll}\n",
       "  & Region & Year & CrimeRate & Income\\\\\n",
       "  & <chr> & <chr> & <dbl> & <chr>\\\\\n",
       "\\hline\n",
       "\t1 & Alberni Clayoquot & 2015 &  98.76193 & 68,420\\\\\n",
       "\t2 & Alberni Clayoquot & 2016 & 100.56679 & 68,630\\\\\n",
       "\t3 & Alberni Clayoquot & 2017 &  96.47319 & 69,880\\\\\n",
       "\t4 & Alberni Clayoquot & 2018 & 112.92377 & 72,500\\\\\n",
       "\t5 & Alberni Clayoquot & 2019 & 138.41150 & 74,500\\\\\n",
       "\t6 & Capital           & 2015 &  57.53442 & 99,810\\\\\n",
       "\\end{tabular}\n"
      ],
      "text/markdown": [
       "\n",
       "A data.frame: 6 × 4\n",
       "\n",
       "| <!--/--> | Region &lt;chr&gt; | Year &lt;chr&gt; | CrimeRate &lt;dbl&gt; | Income &lt;chr&gt; |\n",
       "|---|---|---|---|---|\n",
       "| 1 | Alberni Clayoquot | 2015 |  98.76193 | 68,420 |\n",
       "| 2 | Alberni Clayoquot | 2016 | 100.56679 | 68,630 |\n",
       "| 3 | Alberni Clayoquot | 2017 |  96.47319 | 69,880 |\n",
       "| 4 | Alberni Clayoquot | 2018 | 112.92377 | 72,500 |\n",
       "| 5 | Alberni Clayoquot | 2019 | 138.41150 | 74,500 |\n",
       "| 6 | Capital           | 2015 |  57.53442 | 99,810 |\n",
       "\n"
      ],
      "text/plain": [
       "  Region            Year CrimeRate Income\n",
       "1 Alberni Clayoquot 2015  98.76193 68,420\n",
       "2 Alberni Clayoquot 2016 100.56679 68,630\n",
       "3 Alberni Clayoquot 2017  96.47319 69,880\n",
       "4 Alberni Clayoquot 2018 112.92377 72,500\n",
       "5 Alberni Clayoquot 2019 138.41150 74,500\n",
       "6 Capital           2015  57.53442 99,810"
      ]
     },
     "metadata": {},
     "output_type": "display_data"
    }
   ],
   "source": [
    "head(tdata)"
   ]
  },
  {
   "cell_type": "code",
   "execution_count": 14,
   "metadata": {
    "vscode": {
     "languageId": "r"
    }
   },
   "outputs": [],
   "source": [
    "tdata$Income <- gsub(\",\", \"\", tdata$Income) # remove commas"
   ]
  },
  {
   "cell_type": "code",
   "execution_count": 15,
   "metadata": {
    "vscode": {
     "languageId": "r"
    }
   },
   "outputs": [],
   "source": [
    "tdata$Income <- as.numeric(tdata$Income)"
   ]
  },
  {
   "cell_type": "code",
   "execution_count": 16,
   "metadata": {
    "vscode": {
     "languageId": "r"
    }
   },
   "outputs": [
    {
     "data": {
      "text/html": [
       "<table class=\"dataframe\">\n",
       "<caption>A data.frame: 6 × 4</caption>\n",
       "<thead>\n",
       "\t<tr><th></th><th scope=col>Region</th><th scope=col>Year</th><th scope=col>CrimeRate</th><th scope=col>Income</th></tr>\n",
       "\t<tr><th></th><th scope=col>&lt;chr&gt;</th><th scope=col>&lt;chr&gt;</th><th scope=col>&lt;dbl&gt;</th><th scope=col>&lt;dbl&gt;</th></tr>\n",
       "</thead>\n",
       "<tbody>\n",
       "\t<tr><th scope=row>1</th><td>Alberni Clayoquot</td><td>2015</td><td> 98.76193</td><td>68420</td></tr>\n",
       "\t<tr><th scope=row>2</th><td>Alberni Clayoquot</td><td>2016</td><td>100.56679</td><td>68630</td></tr>\n",
       "\t<tr><th scope=row>3</th><td>Alberni Clayoquot</td><td>2017</td><td> 96.47319</td><td>69880</td></tr>\n",
       "\t<tr><th scope=row>4</th><td>Alberni Clayoquot</td><td>2018</td><td>112.92377</td><td>72500</td></tr>\n",
       "\t<tr><th scope=row>5</th><td>Alberni Clayoquot</td><td>2019</td><td>138.41150</td><td>74500</td></tr>\n",
       "\t<tr><th scope=row>6</th><td>Capital          </td><td>2015</td><td> 57.53442</td><td>99810</td></tr>\n",
       "</tbody>\n",
       "</table>\n"
      ],
      "text/latex": [
       "A data.frame: 6 × 4\n",
       "\\begin{tabular}{r|llll}\n",
       "  & Region & Year & CrimeRate & Income\\\\\n",
       "  & <chr> & <chr> & <dbl> & <dbl>\\\\\n",
       "\\hline\n",
       "\t1 & Alberni Clayoquot & 2015 &  98.76193 & 68420\\\\\n",
       "\t2 & Alberni Clayoquot & 2016 & 100.56679 & 68630\\\\\n",
       "\t3 & Alberni Clayoquot & 2017 &  96.47319 & 69880\\\\\n",
       "\t4 & Alberni Clayoquot & 2018 & 112.92377 & 72500\\\\\n",
       "\t5 & Alberni Clayoquot & 2019 & 138.41150 & 74500\\\\\n",
       "\t6 & Capital           & 2015 &  57.53442 & 99810\\\\\n",
       "\\end{tabular}\n"
      ],
      "text/markdown": [
       "\n",
       "A data.frame: 6 × 4\n",
       "\n",
       "| <!--/--> | Region &lt;chr&gt; | Year &lt;chr&gt; | CrimeRate &lt;dbl&gt; | Income &lt;dbl&gt; |\n",
       "|---|---|---|---|---|\n",
       "| 1 | Alberni Clayoquot | 2015 |  98.76193 | 68420 |\n",
       "| 2 | Alberni Clayoquot | 2016 | 100.56679 | 68630 |\n",
       "| 3 | Alberni Clayoquot | 2017 |  96.47319 | 69880 |\n",
       "| 4 | Alberni Clayoquot | 2018 | 112.92377 | 72500 |\n",
       "| 5 | Alberni Clayoquot | 2019 | 138.41150 | 74500 |\n",
       "| 6 | Capital           | 2015 |  57.53442 | 99810 |\n",
       "\n"
      ],
      "text/plain": [
       "  Region            Year CrimeRate Income\n",
       "1 Alberni Clayoquot 2015  98.76193 68420 \n",
       "2 Alberni Clayoquot 2016 100.56679 68630 \n",
       "3 Alberni Clayoquot 2017  96.47319 69880 \n",
       "4 Alberni Clayoquot 2018 112.92377 72500 \n",
       "5 Alberni Clayoquot 2019 138.41150 74500 \n",
       "6 Capital           2015  57.53442 99810 "
      ]
     },
     "metadata": {},
     "output_type": "display_data"
    }
   ],
   "source": [
    "head(tdata)"
   ]
  },
  {
   "cell_type": "code",
   "execution_count": 18,
   "metadata": {
    "vscode": {
     "languageId": "r"
    }
   },
   "outputs": [],
   "source": [
    "tdata$Year <- as.numeric(tdata$Year)"
   ]
  },
  {
   "cell_type": "code",
   "execution_count": 20,
   "metadata": {
    "vscode": {
     "languageId": "r"
    }
   },
   "outputs": [],
   "source": [
    "training_set <- subset(tdata, Year >= 2015 & Year <= 2018)\n",
    "test_set <- subset(tdata, Year == 2019)"
   ]
  },
  {
   "cell_type": "code",
   "execution_count": 21,
   "metadata": {
    "vscode": {
     "languageId": "r"
    }
   },
   "outputs": [
    {
     "data": {
      "text/html": [
       "<table class=\"dataframe\">\n",
       "<caption>A data.frame: 6 × 4</caption>\n",
       "<thead>\n",
       "\t<tr><th></th><th scope=col>Region</th><th scope=col>Year</th><th scope=col>CrimeRate</th><th scope=col>Income</th></tr>\n",
       "\t<tr><th></th><th scope=col>&lt;chr&gt;</th><th scope=col>&lt;dbl&gt;</th><th scope=col>&lt;dbl&gt;</th><th scope=col>&lt;dbl&gt;</th></tr>\n",
       "</thead>\n",
       "<tbody>\n",
       "\t<tr><th scope=row>1</th><td>Alberni Clayoquot</td><td>2015</td><td> 98.76193</td><td> 68420</td></tr>\n",
       "\t<tr><th scope=row>2</th><td>Alberni Clayoquot</td><td>2016</td><td>100.56679</td><td> 68630</td></tr>\n",
       "\t<tr><th scope=row>3</th><td>Alberni Clayoquot</td><td>2017</td><td> 96.47319</td><td> 69880</td></tr>\n",
       "\t<tr><th scope=row>4</th><td>Alberni Clayoquot</td><td>2018</td><td>112.92377</td><td> 72500</td></tr>\n",
       "\t<tr><th scope=row>6</th><td>Capital          </td><td>2015</td><td> 57.53442</td><td> 99810</td></tr>\n",
       "\t<tr><th scope=row>7</th><td>Capital          </td><td>2016</td><td> 54.02410</td><td>101220</td></tr>\n",
       "</tbody>\n",
       "</table>\n"
      ],
      "text/latex": [
       "A data.frame: 6 × 4\n",
       "\\begin{tabular}{r|llll}\n",
       "  & Region & Year & CrimeRate & Income\\\\\n",
       "  & <chr> & <dbl> & <dbl> & <dbl>\\\\\n",
       "\\hline\n",
       "\t1 & Alberni Clayoquot & 2015 &  98.76193 &  68420\\\\\n",
       "\t2 & Alberni Clayoquot & 2016 & 100.56679 &  68630\\\\\n",
       "\t3 & Alberni Clayoquot & 2017 &  96.47319 &  69880\\\\\n",
       "\t4 & Alberni Clayoquot & 2018 & 112.92377 &  72500\\\\\n",
       "\t6 & Capital           & 2015 &  57.53442 &  99810\\\\\n",
       "\t7 & Capital           & 2016 &  54.02410 & 101220\\\\\n",
       "\\end{tabular}\n"
      ],
      "text/markdown": [
       "\n",
       "A data.frame: 6 × 4\n",
       "\n",
       "| <!--/--> | Region &lt;chr&gt; | Year &lt;dbl&gt; | CrimeRate &lt;dbl&gt; | Income &lt;dbl&gt; |\n",
       "|---|---|---|---|---|\n",
       "| 1 | Alberni Clayoquot | 2015 |  98.76193 |  68420 |\n",
       "| 2 | Alberni Clayoquot | 2016 | 100.56679 |  68630 |\n",
       "| 3 | Alberni Clayoquot | 2017 |  96.47319 |  69880 |\n",
       "| 4 | Alberni Clayoquot | 2018 | 112.92377 |  72500 |\n",
       "| 6 | Capital           | 2015 |  57.53442 |  99810 |\n",
       "| 7 | Capital           | 2016 |  54.02410 | 101220 |\n",
       "\n"
      ],
      "text/plain": [
       "  Region            Year CrimeRate Income\n",
       "1 Alberni Clayoquot 2015  98.76193  68420\n",
       "2 Alberni Clayoquot 2016 100.56679  68630\n",
       "3 Alberni Clayoquot 2017  96.47319  69880\n",
       "4 Alberni Clayoquot 2018 112.92377  72500\n",
       "6 Capital           2015  57.53442  99810\n",
       "7 Capital           2016  54.02410 101220"
      ]
     },
     "metadata": {},
     "output_type": "display_data"
    },
    {
     "data": {
      "text/html": [
       "<table class=\"dataframe\">\n",
       "<caption>A data.frame: 6 × 4</caption>\n",
       "<thead>\n",
       "\t<tr><th></th><th scope=col>Region</th><th scope=col>Year</th><th scope=col>CrimeRate</th><th scope=col>Income</th></tr>\n",
       "\t<tr><th></th><th scope=col>&lt;chr&gt;</th><th scope=col>&lt;dbl&gt;</th><th scope=col>&lt;dbl&gt;</th><th scope=col>&lt;dbl&gt;</th></tr>\n",
       "</thead>\n",
       "<tbody>\n",
       "\t<tr><th scope=row>5</th><td>Alberni Clayoquot</td><td>2019</td><td>138.41150</td><td> 74500</td></tr>\n",
       "\t<tr><th scope=row>10</th><td>Capital          </td><td>2019</td><td> 65.19813</td><td>106550</td></tr>\n",
       "\t<tr><th scope=row>15</th><td>Cariboo          </td><td>2019</td><td>136.54883</td><td> 85415</td></tr>\n",
       "\t<tr><th scope=row>20</th><td>Central Kootenay </td><td>2019</td><td> 60.24604</td><td> 82160</td></tr>\n",
       "\t<tr><th scope=row>25</th><td>Central Okanagan </td><td>2019</td><td>106.85574</td><td> 91690</td></tr>\n",
       "\t<tr><th scope=row>30</th><td>Columbia Shuswap </td><td>2019</td><td> 63.82898</td><td> 83010</td></tr>\n",
       "</tbody>\n",
       "</table>\n"
      ],
      "text/latex": [
       "A data.frame: 6 × 4\n",
       "\\begin{tabular}{r|llll}\n",
       "  & Region & Year & CrimeRate & Income\\\\\n",
       "  & <chr> & <dbl> & <dbl> & <dbl>\\\\\n",
       "\\hline\n",
       "\t5 & Alberni Clayoquot & 2019 & 138.41150 &  74500\\\\\n",
       "\t10 & Capital           & 2019 &  65.19813 & 106550\\\\\n",
       "\t15 & Cariboo           & 2019 & 136.54883 &  85415\\\\\n",
       "\t20 & Central Kootenay  & 2019 &  60.24604 &  82160\\\\\n",
       "\t25 & Central Okanagan  & 2019 & 106.85574 &  91690\\\\\n",
       "\t30 & Columbia Shuswap  & 2019 &  63.82898 &  83010\\\\\n",
       "\\end{tabular}\n"
      ],
      "text/markdown": [
       "\n",
       "A data.frame: 6 × 4\n",
       "\n",
       "| <!--/--> | Region &lt;chr&gt; | Year &lt;dbl&gt; | CrimeRate &lt;dbl&gt; | Income &lt;dbl&gt; |\n",
       "|---|---|---|---|---|\n",
       "| 5 | Alberni Clayoquot | 2019 | 138.41150 |  74500 |\n",
       "| 10 | Capital           | 2019 |  65.19813 | 106550 |\n",
       "| 15 | Cariboo           | 2019 | 136.54883 |  85415 |\n",
       "| 20 | Central Kootenay  | 2019 |  60.24604 |  82160 |\n",
       "| 25 | Central Okanagan  | 2019 | 106.85574 |  91690 |\n",
       "| 30 | Columbia Shuswap  | 2019 |  63.82898 |  83010 |\n",
       "\n"
      ],
      "text/plain": [
       "   Region            Year CrimeRate Income\n",
       "5  Alberni Clayoquot 2019 138.41150  74500\n",
       "10 Capital           2019  65.19813 106550\n",
       "15 Cariboo           2019 136.54883  85415\n",
       "20 Central Kootenay  2019  60.24604  82160\n",
       "25 Central Okanagan  2019 106.85574  91690\n",
       "30 Columbia Shuswap  2019  63.82898  83010"
      ]
     },
     "metadata": {},
     "output_type": "display_data"
    }
   ],
   "source": [
    "head(training_set)\n",
    "head(test_set)"
   ]
  },
  {
   "cell_type": "code",
   "execution_count": 35,
   "metadata": {
    "vscode": {
     "languageId": "r"
    }
   },
   "outputs": [],
   "source": [
    "linear_model <- lm(CrimeRate ~ Income + as.factor(Region), data = training_set )"
   ]
  },
  {
   "cell_type": "code",
   "execution_count": 36,
   "metadata": {
    "vscode": {
     "languageId": "r"
    }
   },
   "outputs": [
    {
     "data": {
      "text/plain": [
       "\n",
       "Call:\n",
       "lm(formula = CrimeRate ~ Income + as.factor(Region), data = training_set)\n",
       "\n",
       "Residuals:\n",
       "     Min       1Q   Median       3Q      Max \n",
       "-19.0095  -3.0032  -0.2984   1.8450  20.5307 \n",
       "\n",
       "Coefficients:\n",
       "                                        Estimate Std. Error t value Pr(>|t|)\n",
       "(Intercept)                            1.131e+02  1.704e+01   6.640 7.92e-09\n",
       "Income                                -1.568e-04  2.399e-04  -0.654  0.51559\n",
       "as.factor(Region)Capital              -4.187e+01  8.874e+00  -4.718 1.34e-05\n",
       "as.factor(Region)Cariboo               3.851e+00  5.296e+00   0.727  0.46985\n",
       "as.factor(Region)Central Kootenay     -4.471e+01  5.034e+00  -8.881 9.12e-13\n",
       "as.factor(Region)Central Okanagan     -1.760e+01  5.718e+00  -3.078  0.00307\n",
       "as.factor(Region)Columbia Shuswap     -4.900e+01  4.711e+00 -10.402 2.18e-15\n",
       "as.factor(Region)Comox Valley         -3.936e+01  4.938e+00  -7.971 3.63e-11\n",
       "as.factor(Region)Cowichan Valley      -2.476e+01  4.524e+00  -5.473 7.89e-07\n",
       "as.factor(Region)East Kootenay        -4.537e+01  6.173e+00  -7.349 4.53e-10\n",
       "as.factor(Region)Fraser Fort George    2.852e+01  7.305e+00   3.904  0.00023\n",
       "as.factor(Region)Fraser Valley        -1.199e+01  5.268e+00  -2.276  0.02617\n",
       "as.factor(Region)Kitimat Stikine       3.493e+01  6.140e+00   5.688 3.43e-07\n",
       "as.factor(Region)Metro Vancouver      -2.976e+01  5.585e+00  -5.329 1.37e-06\n",
       "as.factor(Region)Nanaimo              -2.352e+01  4.863e+00  -4.836 8.67e-06\n",
       "as.factor(Region)North Coast           4.787e+01  5.422e+00   8.828 1.13e-12\n",
       "as.factor(Region)North Okanagan       -2.436e+01  5.136e+00  -4.743 1.22e-05\n",
       "as.factor(Region)Okanagan Similkameen -7.328e+00  4.414e+00  -1.660  0.10182\n",
       "as.factor(Region)Peace River          -1.118e+01  1.006e+01  -1.111  0.27062\n",
       "as.factor(Region)Qathet               -4.512e+01  4.423e+00 -10.200 4.81e-15\n",
       "as.factor(Region)Squamish Lillooet    -1.845e+01  8.433e+00  -2.188  0.03232\n",
       "as.factor(Region)Strathcona           -1.248e+01  5.003e+00  -2.495  0.01518\n",
       "as.factor(Region)Thompson Nicola      -3.230e+00  6.332e+00  -0.510  0.61176\n",
       "                                         \n",
       "(Intercept)                           ***\n",
       "Income                                   \n",
       "as.factor(Region)Capital              ***\n",
       "as.factor(Region)Cariboo                 \n",
       "as.factor(Region)Central Kootenay     ***\n",
       "as.factor(Region)Central Okanagan     ** \n",
       "as.factor(Region)Columbia Shuswap     ***\n",
       "as.factor(Region)Comox Valley         ***\n",
       "as.factor(Region)Cowichan Valley      ***\n",
       "as.factor(Region)East Kootenay        ***\n",
       "as.factor(Region)Fraser Fort George   ***\n",
       "as.factor(Region)Fraser Valley        *  \n",
       "as.factor(Region)Kitimat Stikine      ***\n",
       "as.factor(Region)Metro Vancouver      ***\n",
       "as.factor(Region)Nanaimo              ***\n",
       "as.factor(Region)North Coast          ***\n",
       "as.factor(Region)North Okanagan       ***\n",
       "as.factor(Region)Okanagan Similkameen    \n",
       "as.factor(Region)Peace River             \n",
       "as.factor(Region)Qathet               ***\n",
       "as.factor(Region)Squamish Lillooet    *  \n",
       "as.factor(Region)Strathcona           *  \n",
       "as.factor(Region)Thompson Nicola         \n",
       "---\n",
       "Signif. codes:  0 '***' 0.001 '**' 0.01 '*' 0.05 '.' 0.1 ' ' 1\n",
       "\n",
       "Residual standard error: 6.171 on 64 degrees of freedom\n",
       "  (1 observation deleted due to missingness)\n",
       "Multiple R-squared:  0.9595,\tAdjusted R-squared:  0.9456 \n",
       "F-statistic: 68.91 on 22 and 64 DF,  p-value: < 2.2e-16\n"
      ]
     },
     "metadata": {},
     "output_type": "display_data"
    }
   ],
   "source": [
    "summary(linear_model)"
   ]
  },
  {
   "cell_type": "code",
   "execution_count": 37,
   "metadata": {
    "vscode": {
     "languageId": "r"
    }
   },
   "outputs": [
    {
     "name": "stdout",
     "output_type": "stream",
     "text": [
      "   Actual_CrimeRate Predicted_CrimeRate\n",
      "1         138.41150           101.45340\n",
      "2          65.19813            54.56098\n",
      "3         136.54883           103.59252\n",
      "4          60.24604            55.54112\n",
      "5         106.85574            81.15821\n",
      "6          63.82898            51.11764\n",
      "7          76.72511            60.27940\n",
      "8         104.69254            75.79474\n",
      "9          59.09404            53.16083\n",
      "10        200.54945           125.95519\n",
      "11         95.58917            87.25698\n",
      "12        178.22060           132.60442\n",
      "13         73.15398            68.98447\n",
      "14        106.46600            76.34337\n",
      "15        185.88382           146.30263\n",
      "16         97.16927            75.07930\n",
      "17        136.64077            93.22395\n",
      "18        104.70693            84.24918\n",
      "19         98.96738            55.99941\n",
      "20         77.44365            77.41175\n",
      "21        125.55813            87.38568\n",
      "22        112.81023            95.02156\n"
     ]
    }
   ],
   "source": [
    "test_set$predicted_CrimeRate <- predict(linear_model, newdata = test_set)\n",
    "\n",
    "comparison <- data.frame(\n",
    "    Actual_CrimeRate = test_set$CrimeRate,\n",
    "    Predicted_CrimeRate = test_set$predicted_CrimeRate\n",
    ")\n",
    "\n",
    "print(comparison)"
   ]
  },
  {
   "cell_type": "code",
   "execution_count": 40,
   "metadata": {
    "vscode": {
     "languageId": "r"
    }
   },
   "outputs": [
    {
     "name": "stderr",
     "output_type": "stream",
     "text": [
      "\u001b[1m\u001b[22m`geom_smooth()` using formula = 'y ~ x'\n",
      "Warning message:\n",
      "\"\u001b[1m\u001b[22mRemoved 1 rows containing non-finite values (`stat_smooth()`).\"\n",
      "Warning message:\n",
      "\"\u001b[1m\u001b[22mRemoved 1 rows containing missing values (`geom_point()`).\"\n"
     ]
    },
    {
     "data": {
      "image/png": "[encoded data removed]",
      "text/plain": [
       "plot without title"
      ]
     },
     "metadata": {
      "image/png": {
       "height": 420,
       "width": 420
      }
     },
     "output_type": "display_data"
    }
   ],
   "source": [
    "# Combine the training and test sets\n",
    "all_data <- bind_rows(\n",
    "  training_set %>% mutate(DataSet = \"Training\"),\n",
    "  test_set %>% mutate(Predicted_CrimeRate = predict(linear_model, newdata = test_set), DataSet = \"Test\")\n",
    ")\n",
    "\n",
    "# Create a scatterplot of the data\n",
    "p <- ggplot(all_data, aes(x = Income, y = CrimeRate)) +\n",
    "  geom_point(aes(color = factor(Year)), size = 3) +  # Use color to distinguish years\n",
    "  geom_smooth(method = \"lm\", se = FALSE, color = \"black\", data = all_data %>% filter(DataSet == \"Training\")) +  # Add regression line (training data)\n",
    "  geom_point(aes(x = Income, y = Predicted_CrimeRate), data = all_data %>% filter(DataSet == \"Test\"), color = \"red\", shape = 4) +  # Add predictions as red X's\n",
    "  labs(title = \"Crime Rate vs Income\",\n",
    "       x = \"Income\",\n",
    "       y = \"Crime Rate\",\n",
    "       color = \"Year\") +\n",
    "  theme_minimal()\n",
    "\n",
    "# Display the plot\n",
    "print(p)"
   ]
  },
  {
   "cell_type": "code",
   "execution_count": 41,
   "metadata": {
    "vscode": {
     "languageId": "r"
    }
   },
   "outputs": [
    {
     "name": "stderr",
     "output_type": "stream",
     "text": [
      "\u001b[1m\u001b[22m`geom_smooth()` using formula = 'y ~ x'\n",
      "Warning message:\n",
      "\"\u001b[1m\u001b[22mRemoved 1 rows containing non-finite values (`stat_smooth()`).\"\n",
      "Warning message:\n",
      "\"\u001b[1m\u001b[22mRemoved 1 rows containing missing values (`geom_point()`).\"\n"
     ]
    },
    {
     "data": {
      "image/png": "[encoded data removed]",
      "text/plain": [
       "plot without title"
      ]
     },
     "metadata": {
      "image/png": {
       "height": 420,
       "width": 420
      }
     },
     "output_type": "display_data"
    }
   ],
   "source": [
    "p <- ggplot(all_data, aes(x = Income, y = CrimeRate)) +\n",
    "  geom_point(aes(color = as.factor(Region)), size = 3) + # Color points by Region\n",
    "  geom_smooth(method = \"lm\", se = FALSE, color = \"black\") + # Add linear regression line\n",
    "  labs(title = \"Crime Rate vs Income\",\n",
    "       x = \"Income\",\n",
    "       y = \"Crime Rate\",\n",
    "       color = \"Region\") +\n",
    "  theme_minimal()\n",
    "\n",
    "# Display the plot\n",
    "print(p)\n"
   ]
  },
  {
   "cell_type": "code",
   "execution_count": 28,
   "metadata": {
    "vscode": {
     "languageId": "r"
    }
   },
   "outputs": [
    {
     "data": {
      "text/html": [
       "<table class=\"dataframe\">\n",
       "<caption>A data.frame: 6 × 4</caption>\n",
       "<thead>\n",
       "\t<tr><th></th><th scope=col>Region</th><th scope=col>Year</th><th scope=col>CrimeRate</th><th scope=col>Income</th></tr>\n",
       "\t<tr><th></th><th scope=col>&lt;chr&gt;</th><th scope=col>&lt;dbl&gt;</th><th scope=col>&lt;dbl&gt;</th><th scope=col>&lt;dbl&gt;</th></tr>\n",
       "</thead>\n",
       "<tbody>\n",
       "\t<tr><th scope=row>1</th><td>Alberni Clayoquot</td><td>2015</td><td> 98.76193</td><td> 68420</td></tr>\n",
       "\t<tr><th scope=row>2</th><td>Alberni Clayoquot</td><td>2016</td><td>100.56679</td><td> 68630</td></tr>\n",
       "\t<tr><th scope=row>3</th><td>Alberni Clayoquot</td><td>2017</td><td> 96.47319</td><td> 69880</td></tr>\n",
       "\t<tr><th scope=row>4</th><td>Alberni Clayoquot</td><td>2018</td><td>112.92377</td><td> 72500</td></tr>\n",
       "\t<tr><th scope=row>6</th><td>Capital          </td><td>2015</td><td> 57.53442</td><td> 99810</td></tr>\n",
       "\t<tr><th scope=row>7</th><td>Capital          </td><td>2016</td><td> 54.02410</td><td>101220</td></tr>\n",
       "</tbody>\n",
       "</table>\n"
      ],
      "text/latex": [
       "A data.frame: 6 × 4\n",
       "\\begin{tabular}{r|llll}\n",
       "  & Region & Year & CrimeRate & Income\\\\\n",
       "  & <chr> & <dbl> & <dbl> & <dbl>\\\\\n",
       "\\hline\n",
       "\t1 & Alberni Clayoquot & 2015 &  98.76193 &  68420\\\\\n",
       "\t2 & Alberni Clayoquot & 2016 & 100.56679 &  68630\\\\\n",
       "\t3 & Alberni Clayoquot & 2017 &  96.47319 &  69880\\\\\n",
       "\t4 & Alberni Clayoquot & 2018 & 112.92377 &  72500\\\\\n",
       "\t6 & Capital           & 2015 &  57.53442 &  99810\\\\\n",
       "\t7 & Capital           & 2016 &  54.02410 & 101220\\\\\n",
       "\\end{tabular}\n"
      ],
      "text/markdown": [
       "\n",
       "A data.frame: 6 × 4\n",
       "\n",
       "| <!--/--> | Region &lt;chr&gt; | Year &lt;dbl&gt; | CrimeRate &lt;dbl&gt; | Income &lt;dbl&gt; |\n",
       "|---|---|---|---|---|\n",
       "| 1 | Alberni Clayoquot | 2015 |  98.76193 |  68420 |\n",
       "| 2 | Alberni Clayoquot | 2016 | 100.56679 |  68630 |\n",
       "| 3 | Alberni Clayoquot | 2017 |  96.47319 |  69880 |\n",
       "| 4 | Alberni Clayoquot | 2018 | 112.92377 |  72500 |\n",
       "| 6 | Capital           | 2015 |  57.53442 |  99810 |\n",
       "| 7 | Capital           | 2016 |  54.02410 | 101220 |\n",
       "\n"
      ],
      "text/plain": [
       "  Region            Year CrimeRate Income\n",
       "1 Alberni Clayoquot 2015  98.76193  68420\n",
       "2 Alberni Clayoquot 2016 100.56679  68630\n",
       "3 Alberni Clayoquot 2017  96.47319  69880\n",
       "4 Alberni Clayoquot 2018 112.92377  72500\n",
       "6 Capital           2015  57.53442  99810\n",
       "7 Capital           2016  54.02410 101220"
      ]
     },
     "metadata": {},
     "output_type": "display_data"
    },
    {
     "data": {
      "text/html": [
       "<table class=\"dataframe\">\n",
       "<caption>A data.frame: 6 × 5</caption>\n",
       "<thead>\n",
       "\t<tr><th></th><th scope=col>Region</th><th scope=col>Year</th><th scope=col>CrimeRate</th><th scope=col>Income</th><th scope=col>predicted_CrimeRate</th></tr>\n",
       "\t<tr><th></th><th scope=col>&lt;chr&gt;</th><th scope=col>&lt;dbl&gt;</th><th scope=col>&lt;dbl&gt;</th><th scope=col>&lt;dbl&gt;</th><th scope=col>&lt;dbl&gt;</th></tr>\n",
       "</thead>\n",
       "<tbody>\n",
       "\t<tr><th scope=row>5</th><td>Alberni Clayoquot</td><td>2019</td><td>138.41150</td><td> 74500</td><td>101.45340</td></tr>\n",
       "\t<tr><th scope=row>10</th><td>Capital          </td><td>2019</td><td> 65.19813</td><td>106550</td><td> 54.56098</td></tr>\n",
       "\t<tr><th scope=row>15</th><td>Cariboo          </td><td>2019</td><td>136.54883</td><td> 85415</td><td>103.59252</td></tr>\n",
       "\t<tr><th scope=row>20</th><td>Central Kootenay </td><td>2019</td><td> 60.24604</td><td> 82160</td><td> 55.54112</td></tr>\n",
       "\t<tr><th scope=row>25</th><td>Central Okanagan </td><td>2019</td><td>106.85574</td><td> 91690</td><td> 81.15821</td></tr>\n",
       "\t<tr><th scope=row>30</th><td>Columbia Shuswap </td><td>2019</td><td> 63.82898</td><td> 83010</td><td> 51.11764</td></tr>\n",
       "</tbody>\n",
       "</table>\n"
      ],
      "text/latex": [
       "A data.frame: 6 × 5\n",
       "\\begin{tabular}{r|lllll}\n",
       "  & Region & Year & CrimeRate & Income & predicted\\_CrimeRate\\\\\n",
       "  & <chr> & <dbl> & <dbl> & <dbl> & <dbl>\\\\\n",
       "\\hline\n",
       "\t5 & Alberni Clayoquot & 2019 & 138.41150 &  74500 & 101.45340\\\\\n",
       "\t10 & Capital           & 2019 &  65.19813 & 106550 &  54.56098\\\\\n",
       "\t15 & Cariboo           & 2019 & 136.54883 &  85415 & 103.59252\\\\\n",
       "\t20 & Central Kootenay  & 2019 &  60.24604 &  82160 &  55.54112\\\\\n",
       "\t25 & Central Okanagan  & 2019 & 106.85574 &  91690 &  81.15821\\\\\n",
       "\t30 & Columbia Shuswap  & 2019 &  63.82898 &  83010 &  51.11764\\\\\n",
       "\\end{tabular}\n"
      ],
      "text/markdown": [
       "\n",
       "A data.frame: 6 × 5\n",
       "\n",
       "| <!--/--> | Region &lt;chr&gt; | Year &lt;dbl&gt; | CrimeRate &lt;dbl&gt; | Income &lt;dbl&gt; | predicted_CrimeRate &lt;dbl&gt; |\n",
       "|---|---|---|---|---|---|\n",
       "| 5 | Alberni Clayoquot | 2019 | 138.41150 |  74500 | 101.45340 |\n",
       "| 10 | Capital           | 2019 |  65.19813 | 106550 |  54.56098 |\n",
       "| 15 | Cariboo           | 2019 | 136.54883 |  85415 | 103.59252 |\n",
       "| 20 | Central Kootenay  | 2019 |  60.24604 |  82160 |  55.54112 |\n",
       "| 25 | Central Okanagan  | 2019 | 106.85574 |  91690 |  81.15821 |\n",
       "| 30 | Columbia Shuswap  | 2019 |  63.82898 |  83010 |  51.11764 |\n",
       "\n"
      ],
      "text/plain": [
       "   Region            Year CrimeRate Income predicted_CrimeRate\n",
       "5  Alberni Clayoquot 2019 138.41150  74500 101.45340          \n",
       "10 Capital           2019  65.19813 106550  54.56098          \n",
       "15 Cariboo           2019 136.54883  85415 103.59252          \n",
       "20 Central Kootenay  2019  60.24604  82160  55.54112          \n",
       "25 Central Okanagan  2019 106.85574  91690  81.15821          \n",
       "30 Columbia Shuswap  2019  63.82898  83010  51.11764          "
      ]
     },
     "metadata": {},
     "output_type": "display_data"
    }
   ],
   "source": [
    "head(training_set)\n",
    "head(test_set)"
   ]
  }
 ],
 "metadata": {
  "kernelspec": {
   "display_name": "R",
   "language": "R",
   "name": "ir"
  },
  "language_info": {
   "codemirror_mode": "r",
   "file_extension": ".r",
   "mimetype": "text/x-r-source",
   "name": "R",
   "pygments_lexer": "r",
   "version": "4.3.1"
  }
 },
 "nbformat": 4,
 "nbformat_minor": 4
}
