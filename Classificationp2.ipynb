{
 "cells": [
  {
   "cell_type": "code",
   "execution_count": 2,
   "id": "c178bf18",
   "metadata": {},
   "outputs": [
    {
     "name": "stderr",
     "output_type": "stream",
     "text": [
      "Warning message in system(\"timedatectl\", intern = TRUE):\n",
      "“running command 'timedatectl' had status 1”\n",
      "── \u001b[1mAttaching packages\u001b[22m ─────────────────────────────────────── tidyverse 1.3.1 ──\n",
      "\n",
      "\u001b[32m✔\u001b[39m \u001b[34mggplot2\u001b[39m 3.4.2     \u001b[32m✔\u001b[39m \u001b[34mpurrr  \u001b[39m 1.0.1\n",
      "\u001b[32m✔\u001b[39m \u001b[34mtibble \u001b[39m 3.2.1     \u001b[32m✔\u001b[39m \u001b[34mdplyr  \u001b[39m 1.1.2\n",
      "\u001b[32m✔\u001b[39m \u001b[34mtidyr  \u001b[39m 1.3.0     \u001b[32m✔\u001b[39m \u001b[34mstringr\u001b[39m 1.5.0\n",
      "\u001b[32m✔\u001b[39m \u001b[34mreadr  \u001b[39m 2.1.4     \u001b[32m✔\u001b[39m \u001b[34mforcats\u001b[39m 1.0.0\n",
      "\n",
      "── \u001b[1mConflicts\u001b[22m ────────────────────────────────────────── tidyverse_conflicts() ──\n",
      "\u001b[31m✖\u001b[39m \u001b[34mdplyr\u001b[39m::\u001b[32mfilter()\u001b[39m masks \u001b[34mstats\u001b[39m::filter()\n",
      "\u001b[31m✖\u001b[39m \u001b[34mdplyr\u001b[39m::\u001b[32mlag()\u001b[39m    masks \u001b[34mstats\u001b[39m::lag()\n",
      "\n"
     ]
    }
   ],
   "source": [
    "library(readxl)\n",
    "library(tidyverse)"
   ]
  },
  {
   "cell_type": "code",
   "execution_count": 3,
   "id": "84e50e33",
   "metadata": {},
   "outputs": [
    {
     "data": {
      "text/html": [
       "<table class=\"dataframe\">\n",
       "<caption>A data.frame: 6 × 11</caption>\n",
       "<thead>\n",
       "\t<tr><th></th><th scope=col>Region</th><th scope=col>Year_2015</th><th scope=col>Year_2016</th><th scope=col>Year_2017</th><th scope=col>Year_2018</th><th scope=col>Year_2019</th><th scope=col>X</th><th scope=col>X.1</th><th scope=col>X.2</th><th scope=col>X.3</th><th scope=col>X.4</th></tr>\n",
       "\t<tr><th></th><th scope=col>&lt;chr&gt;</th><th scope=col>&lt;chr&gt;</th><th scope=col>&lt;chr&gt;</th><th scope=col>&lt;chr&gt;</th><th scope=col>&lt;chr&gt;</th><th scope=col>&lt;chr&gt;</th><th scope=col>&lt;lgl&gt;</th><th scope=col>&lt;lgl&gt;</th><th scope=col>&lt;lgl&gt;</th><th scope=col>&lt;lgl&gt;</th><th scope=col>&lt;lgl&gt;</th></tr>\n",
       "</thead>\n",
       "<tbody>\n",
       "\t<tr><th scope=row>1</th><td>Alberni Clayoquot</td><td>68,420</td><td>68,630 </td><td>69,880 </td><td>72,500 </td><td>74,500 </td><td>NA</td><td>NA</td><td>NA</td><td>NA</td><td>NA</td></tr>\n",
       "\t<tr><th scope=row>2</th><td>Capital          </td><td>99,810</td><td>101,220</td><td>103,010</td><td>104,250</td><td>106,550</td><td>NA</td><td>NA</td><td>NA</td><td>NA</td><td>NA</td></tr>\n",
       "\t<tr><th scope=row>3</th><td>Cariboo          </td><td>80,592</td><td>80,066 </td><td>83,317 </td><td>85,522 </td><td>85,415 </td><td>NA</td><td>NA</td><td>NA</td><td>NA</td><td>NA</td></tr>\n",
       "\t<tr><th scope=row>4</th><td>Central Kootenay </td><td>      </td><td>74,380 </td><td>77,510 </td><td>79,820 </td><td>82,160 </td><td>NA</td><td>NA</td><td>NA</td><td>NA</td><td>NA</td></tr>\n",
       "\t<tr><th scope=row>5</th><td>Central Okanagan </td><td>82,000</td><td>83,100 </td><td>87,060 </td><td>88,890 </td><td>91,690 </td><td>NA</td><td>NA</td><td>NA</td><td>NA</td><td>NA</td></tr>\n",
       "\t<tr><th scope=row>6</th><td>Columbia Shuswap </td><td>74,410</td><td>75,320 </td><td>78,730 </td><td>80,580 </td><td>83,010 </td><td>NA</td><td>NA</td><td>NA</td><td>NA</td><td>NA</td></tr>\n",
       "</tbody>\n",
       "</table>\n"
      ],
      "text/latex": [
       "A data.frame: 6 × 11\n",
       "\\begin{tabular}{r|lllllllllll}\n",
       "  & Region & Year\\_2015 & Year\\_2016 & Year\\_2017 & Year\\_2018 & Year\\_2019 & X & X.1 & X.2 & X.3 & X.4\\\\\n",
       "  & <chr> & <chr> & <chr> & <chr> & <chr> & <chr> & <lgl> & <lgl> & <lgl> & <lgl> & <lgl>\\\\\n",
       "\\hline\n",
       "\t1 & Alberni Clayoquot & 68,420 & 68,630  & 69,880  & 72,500  & 74,500  & NA & NA & NA & NA & NA\\\\\n",
       "\t2 & Capital           & 99,810 & 101,220 & 103,010 & 104,250 & 106,550 & NA & NA & NA & NA & NA\\\\\n",
       "\t3 & Cariboo           & 80,592 & 80,066  & 83,317  & 85,522  & 85,415  & NA & NA & NA & NA & NA\\\\\n",
       "\t4 & Central Kootenay  &        & 74,380  & 77,510  & 79,820  & 82,160  & NA & NA & NA & NA & NA\\\\\n",
       "\t5 & Central Okanagan  & 82,000 & 83,100  & 87,060  & 88,890  & 91,690  & NA & NA & NA & NA & NA\\\\\n",
       "\t6 & Columbia Shuswap  & 74,410 & 75,320  & 78,730  & 80,580  & 83,010  & NA & NA & NA & NA & NA\\\\\n",
       "\\end{tabular}\n"
      ],
      "text/markdown": [
       "\n",
       "A data.frame: 6 × 11\n",
       "\n",
       "| <!--/--> | Region &lt;chr&gt; | Year_2015 &lt;chr&gt; | Year_2016 &lt;chr&gt; | Year_2017 &lt;chr&gt; | Year_2018 &lt;chr&gt; | Year_2019 &lt;chr&gt; | X &lt;lgl&gt; | X.1 &lt;lgl&gt; | X.2 &lt;lgl&gt; | X.3 &lt;lgl&gt; | X.4 &lt;lgl&gt; |\n",
       "|---|---|---|---|---|---|---|---|---|---|---|---|\n",
       "| 1 | Alberni Clayoquot | 68,420 | 68,630  | 69,880  | 72,500  | 74,500  | NA | NA | NA | NA | NA |\n",
       "| 2 | Capital           | 99,810 | 101,220 | 103,010 | 104,250 | 106,550 | NA | NA | NA | NA | NA |\n",
       "| 3 | Cariboo           | 80,592 | 80,066  | 83,317  | 85,522  | 85,415  | NA | NA | NA | NA | NA |\n",
       "| 4 | Central Kootenay  | <!----> | 74,380  | 77,510  | 79,820  | 82,160  | NA | NA | NA | NA | NA |\n",
       "| 5 | Central Okanagan  | 82,000 | 83,100  | 87,060  | 88,890  | 91,690  | NA | NA | NA | NA | NA |\n",
       "| 6 | Columbia Shuswap  | 74,410 | 75,320  | 78,730  | 80,580  | 83,010  | NA | NA | NA | NA | NA |\n",
       "\n"
      ],
      "text/plain": [
       "  Region            Year_2015 Year_2016 Year_2017 Year_2018 Year_2019 X  X.1\n",
       "1 Alberni Clayoquot 68,420    68,630    69,880    72,500    74,500    NA NA \n",
       "2 Capital           99,810    101,220   103,010   104,250   106,550   NA NA \n",
       "3 Cariboo           80,592    80,066    83,317    85,522    85,415    NA NA \n",
       "4 Central Kootenay            74,380    77,510    79,820    82,160    NA NA \n",
       "5 Central Okanagan  82,000    83,100    87,060    88,890    91,690    NA NA \n",
       "6 Columbia Shuswap  74,410    75,320    78,730    80,580    83,010    NA NA \n",
       "  X.2 X.3 X.4\n",
       "1 NA  NA  NA \n",
       "2 NA  NA  NA \n",
       "3 NA  NA  NA \n",
       "4 NA  NA  NA \n",
       "5 NA  NA  NA \n",
       "6 NA  NA  NA "
      ]
     },
     "metadata": {},
     "output_type": "display_data"
    },
    {
     "data": {
      "text/html": [
       "<table class=\"dataframe\">\n",
       "<caption>A tibble: 6 × 6</caption>\n",
       "<thead>\n",
       "\t<tr><th scope=col>REGION</th><th scope=col>Year_2015</th><th scope=col>Year_2016</th><th scope=col>Year_2017</th><th scope=col>Year_2018</th><th scope=col>Year_2019</th></tr>\n",
       "\t<tr><th scope=col>&lt;chr&gt;</th><th scope=col>&lt;dbl&gt;</th><th scope=col>&lt;dbl&gt;</th><th scope=col>&lt;dbl&gt;</th><th scope=col>&lt;dbl&gt;</th><th scope=col>&lt;dbl&gt;</th></tr>\n",
       "</thead>\n",
       "<tbody>\n",
       "\t<tr><td>Alberni Clayoquot</td><td> 98.76193</td><td>100.56679</td><td>96.47319</td><td>112.92377</td><td>138.41150</td></tr>\n",
       "\t<tr><td>Capital          </td><td> 57.53442</td><td> 54.02410</td><td>52.51044</td><td> 56.98354</td><td> 65.19813</td></tr>\n",
       "\t<tr><td>Cariboo          </td><td>108.37384</td><td>103.92038</td><td>98.20793</td><td>105.77529</td><td>136.54883</td></tr>\n",
       "\t<tr><td>Central Kootenay </td><td> 58.86374</td><td> 56.16195</td><td>57.12425</td><td> 55.65332</td><td> 60.24604</td></tr>\n",
       "\t<tr><td>Central Okanagan </td><td> 81.21511</td><td> 81.86729</td><td>79.01776</td><td> 86.56440</td><td>106.85574</td></tr>\n",
       "\t<tr><td>Columbia Shuswap </td><td> 56.18160</td><td> 52.02519</td><td>48.16129</td><td> 51.70925</td><td> 63.82898</td></tr>\n",
       "</tbody>\n",
       "</table>\n"
      ],
      "text/latex": [
       "A tibble: 6 × 6\n",
       "\\begin{tabular}{llllll}\n",
       " REGION & Year\\_2015 & Year\\_2016 & Year\\_2017 & Year\\_2018 & Year\\_2019\\\\\n",
       " <chr> & <dbl> & <dbl> & <dbl> & <dbl> & <dbl>\\\\\n",
       "\\hline\n",
       "\t Alberni Clayoquot &  98.76193 & 100.56679 & 96.47319 & 112.92377 & 138.41150\\\\\n",
       "\t Capital           &  57.53442 &  54.02410 & 52.51044 &  56.98354 &  65.19813\\\\\n",
       "\t Cariboo           & 108.37384 & 103.92038 & 98.20793 & 105.77529 & 136.54883\\\\\n",
       "\t Central Kootenay  &  58.86374 &  56.16195 & 57.12425 &  55.65332 &  60.24604\\\\\n",
       "\t Central Okanagan  &  81.21511 &  81.86729 & 79.01776 &  86.56440 & 106.85574\\\\\n",
       "\t Columbia Shuswap  &  56.18160 &  52.02519 & 48.16129 &  51.70925 &  63.82898\\\\\n",
       "\\end{tabular}\n"
      ],
      "text/markdown": [
       "\n",
       "A tibble: 6 × 6\n",
       "\n",
       "| REGION &lt;chr&gt; | Year_2015 &lt;dbl&gt; | Year_2016 &lt;dbl&gt; | Year_2017 &lt;dbl&gt; | Year_2018 &lt;dbl&gt; | Year_2019 &lt;dbl&gt; |\n",
       "|---|---|---|---|---|---|\n",
       "| Alberni Clayoquot |  98.76193 | 100.56679 | 96.47319 | 112.92377 | 138.41150 |\n",
       "| Capital           |  57.53442 |  54.02410 | 52.51044 |  56.98354 |  65.19813 |\n",
       "| Cariboo           | 108.37384 | 103.92038 | 98.20793 | 105.77529 | 136.54883 |\n",
       "| Central Kootenay  |  58.86374 |  56.16195 | 57.12425 |  55.65332 |  60.24604 |\n",
       "| Central Okanagan  |  81.21511 |  81.86729 | 79.01776 |  86.56440 | 106.85574 |\n",
       "| Columbia Shuswap  |  56.18160 |  52.02519 | 48.16129 |  51.70925 |  63.82898 |\n",
       "\n"
      ],
      "text/plain": [
       "  REGION            Year_2015 Year_2016 Year_2017 Year_2018 Year_2019\n",
       "1 Alberni Clayoquot  98.76193 100.56679 96.47319  112.92377 138.41150\n",
       "2 Capital            57.53442  54.02410 52.51044   56.98354  65.19813\n",
       "3 Cariboo           108.37384 103.92038 98.20793  105.77529 136.54883\n",
       "4 Central Kootenay   58.86374  56.16195 57.12425   55.65332  60.24604\n",
       "5 Central Okanagan   81.21511  81.86729 79.01776   86.56440 106.85574\n",
       "6 Columbia Shuswap   56.18160  52.02519 48.16129   51.70925  63.82898"
      ]
     },
     "metadata": {},
     "output_type": "display_data"
    }
   ],
   "source": [
    "idf <- read.csv(\"income data.csv\")\n",
    "cdf <- read_xlsx(\"crime rate data.xlsx\")\n",
    "\n",
    "head(idf)\n",
    "head(cdf)"
   ]
  },
  {
   "cell_type": "code",
   "execution_count": 4,
   "id": "9ab6286a",
   "metadata": {},
   "outputs": [
    {
     "data": {
      "text/html": [
       "<table class=\"dataframe\">\n",
       "<caption>A data.frame: 6 × 6</caption>\n",
       "<thead>\n",
       "\t<tr><th></th><th scope=col>Region</th><th scope=col>Year_2015</th><th scope=col>Year_2016</th><th scope=col>Year_2017</th><th scope=col>Year_2018</th><th scope=col>Year_2019</th></tr>\n",
       "\t<tr><th></th><th scope=col>&lt;chr&gt;</th><th scope=col>&lt;chr&gt;</th><th scope=col>&lt;chr&gt;</th><th scope=col>&lt;chr&gt;</th><th scope=col>&lt;chr&gt;</th><th scope=col>&lt;chr&gt;</th></tr>\n",
       "</thead>\n",
       "<tbody>\n",
       "\t<tr><th scope=row>1</th><td>Alberni Clayoquot</td><td>68,420</td><td>68,630 </td><td>69,880 </td><td>72,500 </td><td>74,500 </td></tr>\n",
       "\t<tr><th scope=row>2</th><td>Capital          </td><td>99,810</td><td>101,220</td><td>103,010</td><td>104,250</td><td>106,550</td></tr>\n",
       "\t<tr><th scope=row>3</th><td>Cariboo          </td><td>80,592</td><td>80,066 </td><td>83,317 </td><td>85,522 </td><td>85,415 </td></tr>\n",
       "\t<tr><th scope=row>4</th><td>Central Kootenay </td><td>      </td><td>74,380 </td><td>77,510 </td><td>79,820 </td><td>82,160 </td></tr>\n",
       "\t<tr><th scope=row>5</th><td>Central Okanagan </td><td>82,000</td><td>83,100 </td><td>87,060 </td><td>88,890 </td><td>91,690 </td></tr>\n",
       "\t<tr><th scope=row>6</th><td>Columbia Shuswap </td><td>74,410</td><td>75,320 </td><td>78,730 </td><td>80,580 </td><td>83,010 </td></tr>\n",
       "</tbody>\n",
       "</table>\n"
      ],
      "text/latex": [
       "A data.frame: 6 × 6\n",
       "\\begin{tabular}{r|llllll}\n",
       "  & Region & Year\\_2015 & Year\\_2016 & Year\\_2017 & Year\\_2018 & Year\\_2019\\\\\n",
       "  & <chr> & <chr> & <chr> & <chr> & <chr> & <chr>\\\\\n",
       "\\hline\n",
       "\t1 & Alberni Clayoquot & 68,420 & 68,630  & 69,880  & 72,500  & 74,500 \\\\\n",
       "\t2 & Capital           & 99,810 & 101,220 & 103,010 & 104,250 & 106,550\\\\\n",
       "\t3 & Cariboo           & 80,592 & 80,066  & 83,317  & 85,522  & 85,415 \\\\\n",
       "\t4 & Central Kootenay  &        & 74,380  & 77,510  & 79,820  & 82,160 \\\\\n",
       "\t5 & Central Okanagan  & 82,000 & 83,100  & 87,060  & 88,890  & 91,690 \\\\\n",
       "\t6 & Columbia Shuswap  & 74,410 & 75,320  & 78,730  & 80,580  & 83,010 \\\\\n",
       "\\end{tabular}\n"
      ],
      "text/markdown": [
       "\n",
       "A data.frame: 6 × 6\n",
       "\n",
       "| <!--/--> | Region &lt;chr&gt; | Year_2015 &lt;chr&gt; | Year_2016 &lt;chr&gt; | Year_2017 &lt;chr&gt; | Year_2018 &lt;chr&gt; | Year_2019 &lt;chr&gt; |\n",
       "|---|---|---|---|---|---|---|\n",
       "| 1 | Alberni Clayoquot | 68,420 | 68,630  | 69,880  | 72,500  | 74,500  |\n",
       "| 2 | Capital           | 99,810 | 101,220 | 103,010 | 104,250 | 106,550 |\n",
       "| 3 | Cariboo           | 80,592 | 80,066  | 83,317  | 85,522  | 85,415  |\n",
       "| 4 | Central Kootenay  | <!----> | 74,380  | 77,510  | 79,820  | 82,160  |\n",
       "| 5 | Central Okanagan  | 82,000 | 83,100  | 87,060  | 88,890  | 91,690  |\n",
       "| 6 | Columbia Shuswap  | 74,410 | 75,320  | 78,730  | 80,580  | 83,010  |\n",
       "\n"
      ],
      "text/plain": [
       "  Region            Year_2015 Year_2016 Year_2017 Year_2018 Year_2019\n",
       "1 Alberni Clayoquot 68,420    68,630    69,880    72,500    74,500   \n",
       "2 Capital           99,810    101,220   103,010   104,250   106,550  \n",
       "3 Cariboo           80,592    80,066    83,317    85,522    85,415   \n",
       "4 Central Kootenay            74,380    77,510    79,820    82,160   \n",
       "5 Central Okanagan  82,000    83,100    87,060    88,890    91,690   \n",
       "6 Columbia Shuswap  74,410    75,320    78,730    80,580    83,010   "
      ]
     },
     "metadata": {},
     "output_type": "display_data"
    }
   ],
   "source": [
    "idf <- subset(idf, select = -c(X, X.1, X.2, X.3, X.4))\n",
    "\n",
    "head(idf)"
   ]
  },
  {
   "cell_type": "code",
   "execution_count": 5,
   "id": "53c81575",
   "metadata": {},
   "outputs": [],
   "source": [
    "cdf <- rename(cdf, Region = REGION)"
   ]
  },
  {
   "cell_type": "code",
   "execution_count": 6,
   "id": "c9ee261e",
   "metadata": {},
   "outputs": [
    {
     "data": {
      "text/html": [
       "<table class=\"dataframe\">\n",
       "<caption>A tibble: 6 × 6</caption>\n",
       "<thead>\n",
       "\t<tr><th scope=col>Region</th><th scope=col>Year_2015</th><th scope=col>Year_2016</th><th scope=col>Year_2017</th><th scope=col>Year_2018</th><th scope=col>Year_2019</th></tr>\n",
       "\t<tr><th scope=col>&lt;chr&gt;</th><th scope=col>&lt;dbl&gt;</th><th scope=col>&lt;dbl&gt;</th><th scope=col>&lt;dbl&gt;</th><th scope=col>&lt;dbl&gt;</th><th scope=col>&lt;dbl&gt;</th></tr>\n",
       "</thead>\n",
       "<tbody>\n",
       "\t<tr><td>Alberni Clayoquot</td><td> 98.76193</td><td>100.56679</td><td>96.47319</td><td>112.92377</td><td>138.41150</td></tr>\n",
       "\t<tr><td>Capital          </td><td> 57.53442</td><td> 54.02410</td><td>52.51044</td><td> 56.98354</td><td> 65.19813</td></tr>\n",
       "\t<tr><td>Cariboo          </td><td>108.37384</td><td>103.92038</td><td>98.20793</td><td>105.77529</td><td>136.54883</td></tr>\n",
       "\t<tr><td>Central Kootenay </td><td> 58.86374</td><td> 56.16195</td><td>57.12425</td><td> 55.65332</td><td> 60.24604</td></tr>\n",
       "\t<tr><td>Central Okanagan </td><td> 81.21511</td><td> 81.86729</td><td>79.01776</td><td> 86.56440</td><td>106.85574</td></tr>\n",
       "\t<tr><td>Columbia Shuswap </td><td> 56.18160</td><td> 52.02519</td><td>48.16129</td><td> 51.70925</td><td> 63.82898</td></tr>\n",
       "</tbody>\n",
       "</table>\n"
      ],
      "text/latex": [
       "A tibble: 6 × 6\n",
       "\\begin{tabular}{llllll}\n",
       " Region & Year\\_2015 & Year\\_2016 & Year\\_2017 & Year\\_2018 & Year\\_2019\\\\\n",
       " <chr> & <dbl> & <dbl> & <dbl> & <dbl> & <dbl>\\\\\n",
       "\\hline\n",
       "\t Alberni Clayoquot &  98.76193 & 100.56679 & 96.47319 & 112.92377 & 138.41150\\\\\n",
       "\t Capital           &  57.53442 &  54.02410 & 52.51044 &  56.98354 &  65.19813\\\\\n",
       "\t Cariboo           & 108.37384 & 103.92038 & 98.20793 & 105.77529 & 136.54883\\\\\n",
       "\t Central Kootenay  &  58.86374 &  56.16195 & 57.12425 &  55.65332 &  60.24604\\\\\n",
       "\t Central Okanagan  &  81.21511 &  81.86729 & 79.01776 &  86.56440 & 106.85574\\\\\n",
       "\t Columbia Shuswap  &  56.18160 &  52.02519 & 48.16129 &  51.70925 &  63.82898\\\\\n",
       "\\end{tabular}\n"
      ],
      "text/markdown": [
       "\n",
       "A tibble: 6 × 6\n",
       "\n",
       "| Region &lt;chr&gt; | Year_2015 &lt;dbl&gt; | Year_2016 &lt;dbl&gt; | Year_2017 &lt;dbl&gt; | Year_2018 &lt;dbl&gt; | Year_2019 &lt;dbl&gt; |\n",
       "|---|---|---|---|---|---|\n",
       "| Alberni Clayoquot |  98.76193 | 100.56679 | 96.47319 | 112.92377 | 138.41150 |\n",
       "| Capital           |  57.53442 |  54.02410 | 52.51044 |  56.98354 |  65.19813 |\n",
       "| Cariboo           | 108.37384 | 103.92038 | 98.20793 | 105.77529 | 136.54883 |\n",
       "| Central Kootenay  |  58.86374 |  56.16195 | 57.12425 |  55.65332 |  60.24604 |\n",
       "| Central Okanagan  |  81.21511 |  81.86729 | 79.01776 |  86.56440 | 106.85574 |\n",
       "| Columbia Shuswap  |  56.18160 |  52.02519 | 48.16129 |  51.70925 |  63.82898 |\n",
       "\n"
      ],
      "text/plain": [
       "  Region            Year_2015 Year_2016 Year_2017 Year_2018 Year_2019\n",
       "1 Alberni Clayoquot  98.76193 100.56679 96.47319  112.92377 138.41150\n",
       "2 Capital            57.53442  54.02410 52.51044   56.98354  65.19813\n",
       "3 Cariboo           108.37384 103.92038 98.20793  105.77529 136.54883\n",
       "4 Central Kootenay   58.86374  56.16195 57.12425   55.65332  60.24604\n",
       "5 Central Okanagan   81.21511  81.86729 79.01776   86.56440 106.85574\n",
       "6 Columbia Shuswap   56.18160  52.02519 48.16129   51.70925  63.82898"
      ]
     },
     "metadata": {},
     "output_type": "display_data"
    },
    {
     "data": {
      "text/html": [
       "<table class=\"dataframe\">\n",
       "<caption>A data.frame: 6 × 6</caption>\n",
       "<thead>\n",
       "\t<tr><th></th><th scope=col>Region</th><th scope=col>Year_2015</th><th scope=col>Year_2016</th><th scope=col>Year_2017</th><th scope=col>Year_2018</th><th scope=col>Year_2019</th></tr>\n",
       "\t<tr><th></th><th scope=col>&lt;chr&gt;</th><th scope=col>&lt;chr&gt;</th><th scope=col>&lt;chr&gt;</th><th scope=col>&lt;chr&gt;</th><th scope=col>&lt;chr&gt;</th><th scope=col>&lt;chr&gt;</th></tr>\n",
       "</thead>\n",
       "<tbody>\n",
       "\t<tr><th scope=row>1</th><td>Alberni Clayoquot</td><td>68,420</td><td>68,630 </td><td>69,880 </td><td>72,500 </td><td>74,500 </td></tr>\n",
       "\t<tr><th scope=row>2</th><td>Capital          </td><td>99,810</td><td>101,220</td><td>103,010</td><td>104,250</td><td>106,550</td></tr>\n",
       "\t<tr><th scope=row>3</th><td>Cariboo          </td><td>80,592</td><td>80,066 </td><td>83,317 </td><td>85,522 </td><td>85,415 </td></tr>\n",
       "\t<tr><th scope=row>4</th><td>Central Kootenay </td><td>      </td><td>74,380 </td><td>77,510 </td><td>79,820 </td><td>82,160 </td></tr>\n",
       "\t<tr><th scope=row>5</th><td>Central Okanagan </td><td>82,000</td><td>83,100 </td><td>87,060 </td><td>88,890 </td><td>91,690 </td></tr>\n",
       "\t<tr><th scope=row>6</th><td>Columbia Shuswap </td><td>74,410</td><td>75,320 </td><td>78,730 </td><td>80,580 </td><td>83,010 </td></tr>\n",
       "</tbody>\n",
       "</table>\n"
      ],
      "text/latex": [
       "A data.frame: 6 × 6\n",
       "\\begin{tabular}{r|llllll}\n",
       "  & Region & Year\\_2015 & Year\\_2016 & Year\\_2017 & Year\\_2018 & Year\\_2019\\\\\n",
       "  & <chr> & <chr> & <chr> & <chr> & <chr> & <chr>\\\\\n",
       "\\hline\n",
       "\t1 & Alberni Clayoquot & 68,420 & 68,630  & 69,880  & 72,500  & 74,500 \\\\\n",
       "\t2 & Capital           & 99,810 & 101,220 & 103,010 & 104,250 & 106,550\\\\\n",
       "\t3 & Cariboo           & 80,592 & 80,066  & 83,317  & 85,522  & 85,415 \\\\\n",
       "\t4 & Central Kootenay  &        & 74,380  & 77,510  & 79,820  & 82,160 \\\\\n",
       "\t5 & Central Okanagan  & 82,000 & 83,100  & 87,060  & 88,890  & 91,690 \\\\\n",
       "\t6 & Columbia Shuswap  & 74,410 & 75,320  & 78,730  & 80,580  & 83,010 \\\\\n",
       "\\end{tabular}\n"
      ],
      "text/markdown": [
       "\n",
       "A data.frame: 6 × 6\n",
       "\n",
       "| <!--/--> | Region &lt;chr&gt; | Year_2015 &lt;chr&gt; | Year_2016 &lt;chr&gt; | Year_2017 &lt;chr&gt; | Year_2018 &lt;chr&gt; | Year_2019 &lt;chr&gt; |\n",
       "|---|---|---|---|---|---|---|\n",
       "| 1 | Alberni Clayoquot | 68,420 | 68,630  | 69,880  | 72,500  | 74,500  |\n",
       "| 2 | Capital           | 99,810 | 101,220 | 103,010 | 104,250 | 106,550 |\n",
       "| 3 | Cariboo           | 80,592 | 80,066  | 83,317  | 85,522  | 85,415  |\n",
       "| 4 | Central Kootenay  | <!----> | 74,380  | 77,510  | 79,820  | 82,160  |\n",
       "| 5 | Central Okanagan  | 82,000 | 83,100  | 87,060  | 88,890  | 91,690  |\n",
       "| 6 | Columbia Shuswap  | 74,410 | 75,320  | 78,730  | 80,580  | 83,010  |\n",
       "\n"
      ],
      "text/plain": [
       "  Region            Year_2015 Year_2016 Year_2017 Year_2018 Year_2019\n",
       "1 Alberni Clayoquot 68,420    68,630    69,880    72,500    74,500   \n",
       "2 Capital           99,810    101,220   103,010   104,250   106,550  \n",
       "3 Cariboo           80,592    80,066    83,317    85,522    85,415   \n",
       "4 Central Kootenay            74,380    77,510    79,820    82,160   \n",
       "5 Central Okanagan  82,000    83,100    87,060    88,890    91,690   \n",
       "6 Columbia Shuswap  74,410    75,320    78,730    80,580    83,010   "
      ]
     },
     "metadata": {},
     "output_type": "display_data"
    }
   ],
   "source": [
    "head(cdf)\n",
    "head(idf)"
   ]
  },
  {
   "cell_type": "code",
   "execution_count": 7,
   "id": "7e31ce3a",
   "metadata": {},
   "outputs": [],
   "source": [
    "cdf <- pivot_longer(cdf, cols = starts_with(\"Year\"), names_to = \"Year\", values_to = \"CrimeRate\")\n",
    "idf <- pivot_longer(idf, cols = starts_with(\"Year\"), names_to = \"Year\", values_to = \"Income\")"
   ]
  },
  {
   "cell_type": "code",
   "execution_count": 8,
   "id": "cff96eb6",
   "metadata": {},
   "outputs": [
    {
     "data": {
      "text/html": [
       "<table class=\"dataframe\">\n",
       "<caption>A tibble: 6 × 3</caption>\n",
       "<thead>\n",
       "\t<tr><th scope=col>Region</th><th scope=col>Year</th><th scope=col>CrimeRate</th></tr>\n",
       "\t<tr><th scope=col>&lt;chr&gt;</th><th scope=col>&lt;chr&gt;</th><th scope=col>&lt;dbl&gt;</th></tr>\n",
       "</thead>\n",
       "<tbody>\n",
       "\t<tr><td>Alberni Clayoquot</td><td>Year_2015</td><td> 98.76193</td></tr>\n",
       "\t<tr><td>Alberni Clayoquot</td><td>Year_2016</td><td>100.56679</td></tr>\n",
       "\t<tr><td>Alberni Clayoquot</td><td>Year_2017</td><td> 96.47319</td></tr>\n",
       "\t<tr><td>Alberni Clayoquot</td><td>Year_2018</td><td>112.92377</td></tr>\n",
       "\t<tr><td>Alberni Clayoquot</td><td>Year_2019</td><td>138.41150</td></tr>\n",
       "\t<tr><td>Capital          </td><td>Year_2015</td><td> 57.53442</td></tr>\n",
       "</tbody>\n",
       "</table>\n"
      ],
      "text/latex": [
       "A tibble: 6 × 3\n",
       "\\begin{tabular}{lll}\n",
       " Region & Year & CrimeRate\\\\\n",
       " <chr> & <chr> & <dbl>\\\\\n",
       "\\hline\n",
       "\t Alberni Clayoquot & Year\\_2015 &  98.76193\\\\\n",
       "\t Alberni Clayoquot & Year\\_2016 & 100.56679\\\\\n",
       "\t Alberni Clayoquot & Year\\_2017 &  96.47319\\\\\n",
       "\t Alberni Clayoquot & Year\\_2018 & 112.92377\\\\\n",
       "\t Alberni Clayoquot & Year\\_2019 & 138.41150\\\\\n",
       "\t Capital           & Year\\_2015 &  57.53442\\\\\n",
       "\\end{tabular}\n"
      ],
      "text/markdown": [
       "\n",
       "A tibble: 6 × 3\n",
       "\n",
       "| Region &lt;chr&gt; | Year &lt;chr&gt; | CrimeRate &lt;dbl&gt; |\n",
       "|---|---|---|\n",
       "| Alberni Clayoquot | Year_2015 |  98.76193 |\n",
       "| Alberni Clayoquot | Year_2016 | 100.56679 |\n",
       "| Alberni Clayoquot | Year_2017 |  96.47319 |\n",
       "| Alberni Clayoquot | Year_2018 | 112.92377 |\n",
       "| Alberni Clayoquot | Year_2019 | 138.41150 |\n",
       "| Capital           | Year_2015 |  57.53442 |\n",
       "\n"
      ],
      "text/plain": [
       "  Region            Year      CrimeRate\n",
       "1 Alberni Clayoquot Year_2015  98.76193\n",
       "2 Alberni Clayoquot Year_2016 100.56679\n",
       "3 Alberni Clayoquot Year_2017  96.47319\n",
       "4 Alberni Clayoquot Year_2018 112.92377\n",
       "5 Alberni Clayoquot Year_2019 138.41150\n",
       "6 Capital           Year_2015  57.53442"
      ]
     },
     "metadata": {},
     "output_type": "display_data"
    },
    {
     "data": {
      "text/html": [
       "<table class=\"dataframe\">\n",
       "<caption>A tibble: 6 × 3</caption>\n",
       "<thead>\n",
       "\t<tr><th scope=col>Region</th><th scope=col>Year</th><th scope=col>Income</th></tr>\n",
       "\t<tr><th scope=col>&lt;chr&gt;</th><th scope=col>&lt;chr&gt;</th><th scope=col>&lt;chr&gt;</th></tr>\n",
       "</thead>\n",
       "<tbody>\n",
       "\t<tr><td>Alberni Clayoquot</td><td>Year_2015</td><td>68,420</td></tr>\n",
       "\t<tr><td>Alberni Clayoquot</td><td>Year_2016</td><td>68,630</td></tr>\n",
       "\t<tr><td>Alberni Clayoquot</td><td>Year_2017</td><td>69,880</td></tr>\n",
       "\t<tr><td>Alberni Clayoquot</td><td>Year_2018</td><td>72,500</td></tr>\n",
       "\t<tr><td>Alberni Clayoquot</td><td>Year_2019</td><td>74,500</td></tr>\n",
       "\t<tr><td>Capital          </td><td>Year_2015</td><td>99,810</td></tr>\n",
       "</tbody>\n",
       "</table>\n"
      ],
      "text/latex": [
       "A tibble: 6 × 3\n",
       "\\begin{tabular}{lll}\n",
       " Region & Year & Income\\\\\n",
       " <chr> & <chr> & <chr>\\\\\n",
       "\\hline\n",
       "\t Alberni Clayoquot & Year\\_2015 & 68,420\\\\\n",
       "\t Alberni Clayoquot & Year\\_2016 & 68,630\\\\\n",
       "\t Alberni Clayoquot & Year\\_2017 & 69,880\\\\\n",
       "\t Alberni Clayoquot & Year\\_2018 & 72,500\\\\\n",
       "\t Alberni Clayoquot & Year\\_2019 & 74,500\\\\\n",
       "\t Capital           & Year\\_2015 & 99,810\\\\\n",
       "\\end{tabular}\n"
      ],
      "text/markdown": [
       "\n",
       "A tibble: 6 × 3\n",
       "\n",
       "| Region &lt;chr&gt; | Year &lt;chr&gt; | Income &lt;chr&gt; |\n",
       "|---|---|---|\n",
       "| Alberni Clayoquot | Year_2015 | 68,420 |\n",
       "| Alberni Clayoquot | Year_2016 | 68,630 |\n",
       "| Alberni Clayoquot | Year_2017 | 69,880 |\n",
       "| Alberni Clayoquot | Year_2018 | 72,500 |\n",
       "| Alberni Clayoquot | Year_2019 | 74,500 |\n",
       "| Capital           | Year_2015 | 99,810 |\n",
       "\n"
      ],
      "text/plain": [
       "  Region            Year      Income\n",
       "1 Alberni Clayoquot Year_2015 68,420\n",
       "2 Alberni Clayoquot Year_2016 68,630\n",
       "3 Alberni Clayoquot Year_2017 69,880\n",
       "4 Alberni Clayoquot Year_2018 72,500\n",
       "5 Alberni Clayoquot Year_2019 74,500\n",
       "6 Capital           Year_2015 99,810"
      ]
     },
     "metadata": {},
     "output_type": "display_data"
    }
   ],
   "source": [
    "head(cdf)\n",
    "head(idf)"
   ]
  },
  {
   "cell_type": "code",
   "execution_count": 9,
   "id": "688c01f8",
   "metadata": {},
   "outputs": [],
   "source": [
    "tdata <- merge(cdf, idf, by = c(\"Region\", \"Year\"))"
   ]
  },
  {
   "cell_type": "code",
   "execution_count": 10,
   "id": "b990ce3c",
   "metadata": {},
   "outputs": [
    {
     "data": {
      "text/html": [
       "<table class=\"dataframe\">\n",
       "<caption>A data.frame: 6 × 4</caption>\n",
       "<thead>\n",
       "\t<tr><th></th><th scope=col>Region</th><th scope=col>Year</th><th scope=col>CrimeRate</th><th scope=col>Income</th></tr>\n",
       "\t<tr><th></th><th scope=col>&lt;chr&gt;</th><th scope=col>&lt;chr&gt;</th><th scope=col>&lt;dbl&gt;</th><th scope=col>&lt;chr&gt;</th></tr>\n",
       "</thead>\n",
       "<tbody>\n",
       "\t<tr><th scope=row>1</th><td>Alberni Clayoquot</td><td>Year_2015</td><td> 98.76193</td><td>68,420</td></tr>\n",
       "\t<tr><th scope=row>2</th><td>Alberni Clayoquot</td><td>Year_2016</td><td>100.56679</td><td>68,630</td></tr>\n",
       "\t<tr><th scope=row>3</th><td>Alberni Clayoquot</td><td>Year_2017</td><td> 96.47319</td><td>69,880</td></tr>\n",
       "\t<tr><th scope=row>4</th><td>Alberni Clayoquot</td><td>Year_2018</td><td>112.92377</td><td>72,500</td></tr>\n",
       "\t<tr><th scope=row>5</th><td>Alberni Clayoquot</td><td>Year_2019</td><td>138.41150</td><td>74,500</td></tr>\n",
       "\t<tr><th scope=row>6</th><td>Capital          </td><td>Year_2015</td><td> 57.53442</td><td>99,810</td></tr>\n",
       "</tbody>\n",
       "</table>\n"
      ],
      "text/latex": [
       "A data.frame: 6 × 4\n",
       "\\begin{tabular}{r|llll}\n",
       "  & Region & Year & CrimeRate & Income\\\\\n",
       "  & <chr> & <chr> & <dbl> & <chr>\\\\\n",
       "\\hline\n",
       "\t1 & Alberni Clayoquot & Year\\_2015 &  98.76193 & 68,420\\\\\n",
       "\t2 & Alberni Clayoquot & Year\\_2016 & 100.56679 & 68,630\\\\\n",
       "\t3 & Alberni Clayoquot & Year\\_2017 &  96.47319 & 69,880\\\\\n",
       "\t4 & Alberni Clayoquot & Year\\_2018 & 112.92377 & 72,500\\\\\n",
       "\t5 & Alberni Clayoquot & Year\\_2019 & 138.41150 & 74,500\\\\\n",
       "\t6 & Capital           & Year\\_2015 &  57.53442 & 99,810\\\\\n",
       "\\end{tabular}\n"
      ],
      "text/markdown": [
       "\n",
       "A data.frame: 6 × 4\n",
       "\n",
       "| <!--/--> | Region &lt;chr&gt; | Year &lt;chr&gt; | CrimeRate &lt;dbl&gt; | Income &lt;chr&gt; |\n",
       "|---|---|---|---|---|\n",
       "| 1 | Alberni Clayoquot | Year_2015 |  98.76193 | 68,420 |\n",
       "| 2 | Alberni Clayoquot | Year_2016 | 100.56679 | 68,630 |\n",
       "| 3 | Alberni Clayoquot | Year_2017 |  96.47319 | 69,880 |\n",
       "| 4 | Alberni Clayoquot | Year_2018 | 112.92377 | 72,500 |\n",
       "| 5 | Alberni Clayoquot | Year_2019 | 138.41150 | 74,500 |\n",
       "| 6 | Capital           | Year_2015 |  57.53442 | 99,810 |\n",
       "\n"
      ],
      "text/plain": [
       "  Region            Year      CrimeRate Income\n",
       "1 Alberni Clayoquot Year_2015  98.76193 68,420\n",
       "2 Alberni Clayoquot Year_2016 100.56679 68,630\n",
       "3 Alberni Clayoquot Year_2017  96.47319 69,880\n",
       "4 Alberni Clayoquot Year_2018 112.92377 72,500\n",
       "5 Alberni Clayoquot Year_2019 138.41150 74,500\n",
       "6 Capital           Year_2015  57.53442 99,810"
      ]
     },
     "metadata": {},
     "output_type": "display_data"
    }
   ],
   "source": [
    "head(tdata)"
   ]
  },
  {
   "cell_type": "code",
   "execution_count": 11,
   "id": "c137b1ab",
   "metadata": {},
   "outputs": [],
   "source": [
    "tdata$Year <- sub(\"Year_\", \"\", tdata$Year)"
   ]
  },
  {
   "cell_type": "code",
   "execution_count": 12,
   "id": "bffeface",
   "metadata": {},
   "outputs": [
    {
     "data": {
      "text/html": [
       "<table class=\"dataframe\">\n",
       "<caption>A data.frame: 6 × 4</caption>\n",
       "<thead>\n",
       "\t<tr><th></th><th scope=col>Region</th><th scope=col>Year</th><th scope=col>CrimeRate</th><th scope=col>Income</th></tr>\n",
       "\t<tr><th></th><th scope=col>&lt;chr&gt;</th><th scope=col>&lt;chr&gt;</th><th scope=col>&lt;dbl&gt;</th><th scope=col>&lt;chr&gt;</th></tr>\n",
       "</thead>\n",
       "<tbody>\n",
       "\t<tr><th scope=row>1</th><td>Alberni Clayoquot</td><td>2015</td><td> 98.76193</td><td>68,420</td></tr>\n",
       "\t<tr><th scope=row>2</th><td>Alberni Clayoquot</td><td>2016</td><td>100.56679</td><td>68,630</td></tr>\n",
       "\t<tr><th scope=row>3</th><td>Alberni Clayoquot</td><td>2017</td><td> 96.47319</td><td>69,880</td></tr>\n",
       "\t<tr><th scope=row>4</th><td>Alberni Clayoquot</td><td>2018</td><td>112.92377</td><td>72,500</td></tr>\n",
       "\t<tr><th scope=row>5</th><td>Alberni Clayoquot</td><td>2019</td><td>138.41150</td><td>74,500</td></tr>\n",
       "\t<tr><th scope=row>6</th><td>Capital          </td><td>2015</td><td> 57.53442</td><td>99,810</td></tr>\n",
       "</tbody>\n",
       "</table>\n"
      ],
      "text/latex": [
       "A data.frame: 6 × 4\n",
       "\\begin{tabular}{r|llll}\n",
       "  & Region & Year & CrimeRate & Income\\\\\n",
       "  & <chr> & <chr> & <dbl> & <chr>\\\\\n",
       "\\hline\n",
       "\t1 & Alberni Clayoquot & 2015 &  98.76193 & 68,420\\\\\n",
       "\t2 & Alberni Clayoquot & 2016 & 100.56679 & 68,630\\\\\n",
       "\t3 & Alberni Clayoquot & 2017 &  96.47319 & 69,880\\\\\n",
       "\t4 & Alberni Clayoquot & 2018 & 112.92377 & 72,500\\\\\n",
       "\t5 & Alberni Clayoquot & 2019 & 138.41150 & 74,500\\\\\n",
       "\t6 & Capital           & 2015 &  57.53442 & 99,810\\\\\n",
       "\\end{tabular}\n"
      ],
      "text/markdown": [
       "\n",
       "A data.frame: 6 × 4\n",
       "\n",
       "| <!--/--> | Region &lt;chr&gt; | Year &lt;chr&gt; | CrimeRate &lt;dbl&gt; | Income &lt;chr&gt; |\n",
       "|---|---|---|---|---|\n",
       "| 1 | Alberni Clayoquot | 2015 |  98.76193 | 68,420 |\n",
       "| 2 | Alberni Clayoquot | 2016 | 100.56679 | 68,630 |\n",
       "| 3 | Alberni Clayoquot | 2017 |  96.47319 | 69,880 |\n",
       "| 4 | Alberni Clayoquot | 2018 | 112.92377 | 72,500 |\n",
       "| 5 | Alberni Clayoquot | 2019 | 138.41150 | 74,500 |\n",
       "| 6 | Capital           | 2015 |  57.53442 | 99,810 |\n",
       "\n"
      ],
      "text/plain": [
       "  Region            Year CrimeRate Income\n",
       "1 Alberni Clayoquot 2015  98.76193 68,420\n",
       "2 Alberni Clayoquot 2016 100.56679 68,630\n",
       "3 Alberni Clayoquot 2017  96.47319 69,880\n",
       "4 Alberni Clayoquot 2018 112.92377 72,500\n",
       "5 Alberni Clayoquot 2019 138.41150 74,500\n",
       "6 Capital           2015  57.53442 99,810"
      ]
     },
     "metadata": {},
     "output_type": "display_data"
    }
   ],
   "source": [
    "head(tdata)"
   ]
  },
  {
   "cell_type": "code",
   "execution_count": 13,
   "id": "affb8553",
   "metadata": {},
   "outputs": [],
   "source": [
    "tdata$Income <- gsub(\",\", \"\", tdata$Income) # remove commas"
   ]
  },
  {
   "cell_type": "code",
   "execution_count": 14,
   "id": "915ad6b6",
   "metadata": {},
   "outputs": [],
   "source": [
    "tdata$Income <- as.numeric(tdata$Income)"
   ]
  },
  {
   "cell_type": "code",
   "execution_count": 15,
   "id": "f2ca28cc",
   "metadata": {},
   "outputs": [
    {
     "data": {
      "text/html": [
       "<table class=\"dataframe\">\n",
       "<caption>A data.frame: 6 × 4</caption>\n",
       "<thead>\n",
       "\t<tr><th></th><th scope=col>Region</th><th scope=col>Year</th><th scope=col>CrimeRate</th><th scope=col>Income</th></tr>\n",
       "\t<tr><th></th><th scope=col>&lt;chr&gt;</th><th scope=col>&lt;chr&gt;</th><th scope=col>&lt;dbl&gt;</th><th scope=col>&lt;dbl&gt;</th></tr>\n",
       "</thead>\n",
       "<tbody>\n",
       "\t<tr><th scope=row>1</th><td>Alberni Clayoquot</td><td>2015</td><td> 98.76193</td><td>68420</td></tr>\n",
       "\t<tr><th scope=row>2</th><td>Alberni Clayoquot</td><td>2016</td><td>100.56679</td><td>68630</td></tr>\n",
       "\t<tr><th scope=row>3</th><td>Alberni Clayoquot</td><td>2017</td><td> 96.47319</td><td>69880</td></tr>\n",
       "\t<tr><th scope=row>4</th><td>Alberni Clayoquot</td><td>2018</td><td>112.92377</td><td>72500</td></tr>\n",
       "\t<tr><th scope=row>5</th><td>Alberni Clayoquot</td><td>2019</td><td>138.41150</td><td>74500</td></tr>\n",
       "\t<tr><th scope=row>6</th><td>Capital          </td><td>2015</td><td> 57.53442</td><td>99810</td></tr>\n",
       "</tbody>\n",
       "</table>\n"
      ],
      "text/latex": [
       "A data.frame: 6 × 4\n",
       "\\begin{tabular}{r|llll}\n",
       "  & Region & Year & CrimeRate & Income\\\\\n",
       "  & <chr> & <chr> & <dbl> & <dbl>\\\\\n",
       "\\hline\n",
       "\t1 & Alberni Clayoquot & 2015 &  98.76193 & 68420\\\\\n",
       "\t2 & Alberni Clayoquot & 2016 & 100.56679 & 68630\\\\\n",
       "\t3 & Alberni Clayoquot & 2017 &  96.47319 & 69880\\\\\n",
       "\t4 & Alberni Clayoquot & 2018 & 112.92377 & 72500\\\\\n",
       "\t5 & Alberni Clayoquot & 2019 & 138.41150 & 74500\\\\\n",
       "\t6 & Capital           & 2015 &  57.53442 & 99810\\\\\n",
       "\\end{tabular}\n"
      ],
      "text/markdown": [
       "\n",
       "A data.frame: 6 × 4\n",
       "\n",
       "| <!--/--> | Region &lt;chr&gt; | Year &lt;chr&gt; | CrimeRate &lt;dbl&gt; | Income &lt;dbl&gt; |\n",
       "|---|---|---|---|---|\n",
       "| 1 | Alberni Clayoquot | 2015 |  98.76193 | 68420 |\n",
       "| 2 | Alberni Clayoquot | 2016 | 100.56679 | 68630 |\n",
       "| 3 | Alberni Clayoquot | 2017 |  96.47319 | 69880 |\n",
       "| 4 | Alberni Clayoquot | 2018 | 112.92377 | 72500 |\n",
       "| 5 | Alberni Clayoquot | 2019 | 138.41150 | 74500 |\n",
       "| 6 | Capital           | 2015 |  57.53442 | 99810 |\n",
       "\n"
      ],
      "text/plain": [
       "  Region            Year CrimeRate Income\n",
       "1 Alberni Clayoquot 2015  98.76193 68420 \n",
       "2 Alberni Clayoquot 2016 100.56679 68630 \n",
       "3 Alberni Clayoquot 2017  96.47319 69880 \n",
       "4 Alberni Clayoquot 2018 112.92377 72500 \n",
       "5 Alberni Clayoquot 2019 138.41150 74500 \n",
       "6 Capital           2015  57.53442 99810 "
      ]
     },
     "metadata": {},
     "output_type": "display_data"
    }
   ],
   "source": [
    "head(tdata)"
   ]
  },
  {
   "cell_type": "code",
   "execution_count": 16,
   "id": "373c98da",
   "metadata": {},
   "outputs": [],
   "source": [
    "tdata$Year <- as.numeric(tdata$Year)"
   ]
  },
  {
   "cell_type": "code",
   "execution_count": 17,
   "id": "20d96519",
   "metadata": {},
   "outputs": [
    {
     "data": {
      "text/html": [
       "82.6727365576278"
      ],
      "text/latex": [
       "82.6727365576278"
      ],
      "text/markdown": [
       "82.6727365576278"
      ],
      "text/plain": [
       "[1] 82.67274"
      ]
     },
     "metadata": {},
     "output_type": "display_data"
    }
   ],
   "source": [
    "threshold <- median(tdata$CrimeRate)  #set median as threshold for high-low crime level\n",
    "threshold"
   ]
  },
  {
   "cell_type": "code",
   "execution_count": 18,
   "id": "953e23b3",
   "metadata": {},
   "outputs": [],
   "source": [
    "tdata$CrimeLevel <- ifelse(tdata$CrimeRate > threshold, 1, 0)   #1 is high crime rate and 0 is low"
   ]
  },
  {
   "cell_type": "code",
   "execution_count": 19,
   "id": "66d803fc",
   "metadata": {},
   "outputs": [],
   "source": [
    "training_set <- subset(tdata, Year >= 2015 & Year <= 2018)\n",
    "test_set <- subset(tdata, Year == 2019)"
   ]
  },
  {
   "cell_type": "code",
   "execution_count": 20,
   "id": "d3b292fb",
   "metadata": {},
   "outputs": [
    {
     "data": {
      "text/html": [
       "<table class=\"dataframe\">\n",
       "<caption>A data.frame: 6 × 5</caption>\n",
       "<thead>\n",
       "\t<tr><th></th><th scope=col>Region</th><th scope=col>Year</th><th scope=col>CrimeRate</th><th scope=col>Income</th><th scope=col>CrimeLevel</th></tr>\n",
       "\t<tr><th></th><th scope=col>&lt;chr&gt;</th><th scope=col>&lt;dbl&gt;</th><th scope=col>&lt;dbl&gt;</th><th scope=col>&lt;dbl&gt;</th><th scope=col>&lt;dbl&gt;</th></tr>\n",
       "</thead>\n",
       "<tbody>\n",
       "\t<tr><th scope=row>1</th><td>Alberni Clayoquot</td><td>2015</td><td> 98.76193</td><td> 68420</td><td>1</td></tr>\n",
       "\t<tr><th scope=row>2</th><td>Alberni Clayoquot</td><td>2016</td><td>100.56679</td><td> 68630</td><td>1</td></tr>\n",
       "\t<tr><th scope=row>3</th><td>Alberni Clayoquot</td><td>2017</td><td> 96.47319</td><td> 69880</td><td>1</td></tr>\n",
       "\t<tr><th scope=row>4</th><td>Alberni Clayoquot</td><td>2018</td><td>112.92377</td><td> 72500</td><td>1</td></tr>\n",
       "\t<tr><th scope=row>6</th><td>Capital          </td><td>2015</td><td> 57.53442</td><td> 99810</td><td>0</td></tr>\n",
       "\t<tr><th scope=row>7</th><td>Capital          </td><td>2016</td><td> 54.02410</td><td>101220</td><td>0</td></tr>\n",
       "</tbody>\n",
       "</table>\n"
      ],
      "text/latex": [
       "A data.frame: 6 × 5\n",
       "\\begin{tabular}{r|lllll}\n",
       "  & Region & Year & CrimeRate & Income & CrimeLevel\\\\\n",
       "  & <chr> & <dbl> & <dbl> & <dbl> & <dbl>\\\\\n",
       "\\hline\n",
       "\t1 & Alberni Clayoquot & 2015 &  98.76193 &  68420 & 1\\\\\n",
       "\t2 & Alberni Clayoquot & 2016 & 100.56679 &  68630 & 1\\\\\n",
       "\t3 & Alberni Clayoquot & 2017 &  96.47319 &  69880 & 1\\\\\n",
       "\t4 & Alberni Clayoquot & 2018 & 112.92377 &  72500 & 1\\\\\n",
       "\t6 & Capital           & 2015 &  57.53442 &  99810 & 0\\\\\n",
       "\t7 & Capital           & 2016 &  54.02410 & 101220 & 0\\\\\n",
       "\\end{tabular}\n"
      ],
      "text/markdown": [
       "\n",
       "A data.frame: 6 × 5\n",
       "\n",
       "| <!--/--> | Region &lt;chr&gt; | Year &lt;dbl&gt; | CrimeRate &lt;dbl&gt; | Income &lt;dbl&gt; | CrimeLevel &lt;dbl&gt; |\n",
       "|---|---|---|---|---|---|\n",
       "| 1 | Alberni Clayoquot | 2015 |  98.76193 |  68420 | 1 |\n",
       "| 2 | Alberni Clayoquot | 2016 | 100.56679 |  68630 | 1 |\n",
       "| 3 | Alberni Clayoquot | 2017 |  96.47319 |  69880 | 1 |\n",
       "| 4 | Alberni Clayoquot | 2018 | 112.92377 |  72500 | 1 |\n",
       "| 6 | Capital           | 2015 |  57.53442 |  99810 | 0 |\n",
       "| 7 | Capital           | 2016 |  54.02410 | 101220 | 0 |\n",
       "\n"
      ],
      "text/plain": [
       "  Region            Year CrimeRate Income CrimeLevel\n",
       "1 Alberni Clayoquot 2015  98.76193  68420 1         \n",
       "2 Alberni Clayoquot 2016 100.56679  68630 1         \n",
       "3 Alberni Clayoquot 2017  96.47319  69880 1         \n",
       "4 Alberni Clayoquot 2018 112.92377  72500 1         \n",
       "6 Capital           2015  57.53442  99810 0         \n",
       "7 Capital           2016  54.02410 101220 0         "
      ]
     },
     "metadata": {},
     "output_type": "display_data"
    },
    {
     "data": {
      "text/html": [
       "<table class=\"dataframe\">\n",
       "<caption>A data.frame: 6 × 5</caption>\n",
       "<thead>\n",
       "\t<tr><th></th><th scope=col>Region</th><th scope=col>Year</th><th scope=col>CrimeRate</th><th scope=col>Income</th><th scope=col>CrimeLevel</th></tr>\n",
       "\t<tr><th></th><th scope=col>&lt;chr&gt;</th><th scope=col>&lt;dbl&gt;</th><th scope=col>&lt;dbl&gt;</th><th scope=col>&lt;dbl&gt;</th><th scope=col>&lt;dbl&gt;</th></tr>\n",
       "</thead>\n",
       "<tbody>\n",
       "\t<tr><th scope=row>5</th><td>Alberni Clayoquot</td><td>2019</td><td>138.41150</td><td> 74500</td><td>1</td></tr>\n",
       "\t<tr><th scope=row>10</th><td>Capital          </td><td>2019</td><td> 65.19813</td><td>106550</td><td>0</td></tr>\n",
       "\t<tr><th scope=row>15</th><td>Cariboo          </td><td>2019</td><td>136.54883</td><td> 85415</td><td>1</td></tr>\n",
       "\t<tr><th scope=row>20</th><td>Central Kootenay </td><td>2019</td><td> 60.24604</td><td> 82160</td><td>0</td></tr>\n",
       "\t<tr><th scope=row>25</th><td>Central Okanagan </td><td>2019</td><td>106.85574</td><td> 91690</td><td>1</td></tr>\n",
       "\t<tr><th scope=row>30</th><td>Columbia Shuswap </td><td>2019</td><td> 63.82898</td><td> 83010</td><td>0</td></tr>\n",
       "</tbody>\n",
       "</table>\n"
      ],
      "text/latex": [
       "A data.frame: 6 × 5\n",
       "\\begin{tabular}{r|lllll}\n",
       "  & Region & Year & CrimeRate & Income & CrimeLevel\\\\\n",
       "  & <chr> & <dbl> & <dbl> & <dbl> & <dbl>\\\\\n",
       "\\hline\n",
       "\t5 & Alberni Clayoquot & 2019 & 138.41150 &  74500 & 1\\\\\n",
       "\t10 & Capital           & 2019 &  65.19813 & 106550 & 0\\\\\n",
       "\t15 & Cariboo           & 2019 & 136.54883 &  85415 & 1\\\\\n",
       "\t20 & Central Kootenay  & 2019 &  60.24604 &  82160 & 0\\\\\n",
       "\t25 & Central Okanagan  & 2019 & 106.85574 &  91690 & 1\\\\\n",
       "\t30 & Columbia Shuswap  & 2019 &  63.82898 &  83010 & 0\\\\\n",
       "\\end{tabular}\n"
      ],
      "text/markdown": [
       "\n",
       "A data.frame: 6 × 5\n",
       "\n",
       "| <!--/--> | Region &lt;chr&gt; | Year &lt;dbl&gt; | CrimeRate &lt;dbl&gt; | Income &lt;dbl&gt; | CrimeLevel &lt;dbl&gt; |\n",
       "|---|---|---|---|---|---|\n",
       "| 5 | Alberni Clayoquot | 2019 | 138.41150 |  74500 | 1 |\n",
       "| 10 | Capital           | 2019 |  65.19813 | 106550 | 0 |\n",
       "| 15 | Cariboo           | 2019 | 136.54883 |  85415 | 1 |\n",
       "| 20 | Central Kootenay  | 2019 |  60.24604 |  82160 | 0 |\n",
       "| 25 | Central Okanagan  | 2019 | 106.85574 |  91690 | 1 |\n",
       "| 30 | Columbia Shuswap  | 2019 |  63.82898 |  83010 | 0 |\n",
       "\n"
      ],
      "text/plain": [
       "   Region            Year CrimeRate Income CrimeLevel\n",
       "5  Alberni Clayoquot 2019 138.41150  74500 1         \n",
       "10 Capital           2019  65.19813 106550 0         \n",
       "15 Cariboo           2019 136.54883  85415 1         \n",
       "20 Central Kootenay  2019  60.24604  82160 0         \n",
       "25 Central Okanagan  2019 106.85574  91690 1         \n",
       "30 Columbia Shuswap  2019  63.82898  83010 0         "
      ]
     },
     "metadata": {},
     "output_type": "display_data"
    }
   ],
   "source": [
    "head(training_set)\n",
    "head(test_set)"
   ]
  },
  {
   "cell_type": "code",
   "execution_count": 21,
   "id": "276f0824",
   "metadata": {},
   "outputs": [
    {
     "data": {
      "text/plain": [
       "\n",
       "Call:\n",
       "glm(formula = CrimeLevel ~ Income + as.factor(Region), family = \"binomial\", \n",
       "    data = training_set)\n",
       "\n",
       "Deviance Residuals: \n",
       "     Min        1Q    Median        3Q       Max  \n",
       "-1.62363  -0.00003  -0.00002   0.00003   1.87666  \n",
       "\n",
       "Coefficients:\n",
       "                                        Estimate Std. Error z value Pr(>|z|)\n",
       "(Intercept)                            3.013e+01  1.458e+04   0.002    0.998\n",
       "Income                                -1.224e-04  1.527e-04  -0.802    0.423\n",
       "as.factor(Region)Capital              -3.922e+01  2.061e+04  -0.002    0.998\n",
       "as.factor(Region)Cariboo               1.544e+00  2.059e+04   0.000    1.000\n",
       "as.factor(Region)Central Kootenay     -4.227e+01  2.224e+04  -0.002    0.998\n",
       "as.factor(Region)Central Okanagan     -2.082e+01  1.458e+04  -0.001    0.999\n",
       "as.factor(Region)Columbia Shuswap     -4.227e+01  2.058e+04  -0.002    0.998\n",
       "as.factor(Region)Comox Valley         -4.201e+01  2.055e+04  -0.002    0.998\n",
       "as.factor(Region)Cowichan Valley      -4.257e+01  2.057e+04  -0.002    0.998\n",
       "as.factor(Region)East Kootenay        -4.095e+01  2.059e+04  -0.002    0.998\n",
       "as.factor(Region)Fraser Fort George    3.010e+00  2.057e+04   0.000    1.000\n",
       "as.factor(Region)Fraser Valley         1.534e+00  2.056e+04   0.000    1.000\n",
       "as.factor(Region)Kitimat Stikine       2.217e+00  2.059e+04   0.000    1.000\n",
       "as.factor(Region)Metro Vancouver      -4.143e+01  2.052e+04  -0.002    0.998\n",
       "as.factor(Region)Nanaimo              -2.161e+01  1.458e+04  -0.001    0.999\n",
       "as.factor(Region)North Coast           1.706e+00  2.049e+04   0.000    1.000\n",
       "as.factor(Region)North Okanagan       -4.180e+01  2.058e+04  -0.002    0.998\n",
       "as.factor(Region)Okanagan Similkameen  3.672e-01  2.057e+04   0.000    1.000\n",
       "as.factor(Region)Peace River          -1.694e+01  1.458e+04  -0.001    0.999\n",
       "as.factor(Region)Qathet               -4.279e+01  2.061e+04  -0.002    0.998\n",
       "as.factor(Region)Squamish Lillooet    -1.908e+01  1.458e+04  -0.001    0.999\n",
       "as.factor(Region)Strathcona           -1.921e+01  1.458e+04  -0.001    0.999\n",
       "as.factor(Region)Thompson Nicola       2.358e+00  2.058e+04   0.000    1.000\n",
       "\n",
       "(Dispersion parameter for binomial family taken to be 1)\n",
       "\n",
       "    Null deviance: 120.044  on 86  degrees of freedom\n",
       "Residual deviance:  22.862  on 64  degrees of freedom\n",
       "  (1 observation deleted due to missingness)\n",
       "AIC: 68.862\n",
       "\n",
       "Number of Fisher Scoring iterations: 20\n"
      ]
     },
     "metadata": {},
     "output_type": "display_data"
    }
   ],
   "source": [
    "logistic_model <- glm(CrimeLevel ~ Income + as.factor(Region), data = training_set, family = \"binomial\")\n",
    "\n",
    "summary(logistic_model)"
   ]
  },
  {
   "cell_type": "code",
   "execution_count": 22,
   "id": "30cedd57",
   "metadata": {},
   "outputs": [],
   "source": [
    "test_set$predicted_CrimeLevel <- predict(logistic_model, newdata = test_set, type = \"response\")"
   ]
  },
  {
   "cell_type": "code",
   "execution_count": 23,
   "id": "58cb19be",
   "metadata": {},
   "outputs": [],
   "source": [
    "test_set$predicted_CrimeLevel <- ifelse(test_set$predicted_CrimeLevel >= 0.5, 1, 0)"
   ]
  },
  {
   "cell_type": "code",
   "execution_count": 24,
   "id": "69674a9a",
   "metadata": {},
   "outputs": [
    {
     "name": "stdout",
     "output_type": "stream",
     "text": [
      "   Actual_CrimeLevel Predicted_CrimeLevel\n",
      "1                  1                    1\n",
      "2                  0                    0\n",
      "3                  1                    1\n",
      "4                  0                    0\n",
      "5                  1                    0\n",
      "6                  0                    0\n",
      "7                  0                    0\n",
      "8                  1                    0\n",
      "9                  0                    0\n",
      "10                 1                    1\n",
      "11                 1                    1\n",
      "12                 1                    1\n",
      "13                 0                    0\n",
      "14                 1                    0\n",
      "15                 1                    1\n",
      "16                 1                    0\n",
      "17                 1                    1\n",
      "18                 1                    0\n",
      "19                 1                    0\n",
      "20                 0                    0\n",
      "21                 1                    1\n",
      "22                 1                    1\n"
     ]
    }
   ],
   "source": [
    "comparison <- data.frame(\n",
    "    Actual_CrimeLevel = test_set$CrimeLevel,\n",
    "    Predicted_CrimeLevel = test_set$predicted_CrimeLevel\n",
    ")\n",
    "\n",
    "print(comparison)"
   ]
  },
  {
   "cell_type": "code",
   "execution_count": 29,
   "id": "d82e092a",
   "metadata": {},
   "outputs": [
    {
     "name": "stderr",
     "output_type": "stream",
     "text": [
      "\u001b[1m\u001b[22m`geom_smooth()` using formula = 'y ~ x'\n"
     ]
    },
    {
     "data": {
      "image/png": "[encoded data removed]",
      "text/plain": [
       "plot without title"
      ]
     },
     "metadata": {
      "image/png": {
       "height": 420,
       "width": 420
      }
     },
     "output_type": "display_data"
    }
   ],
   "source": [
    "ggplot(test_set, aes(x=Income, y=predicted_CrimeLevel)) +\n",
    "  geom_point(alpha=.5) +\n",
    "  labs(title = \"Crime Level Prediction based on Median Income, 2019\", x = \"Median Income\", y = \"Predicted Crime Level\") +\n",
    "  geom_smooth(method=\"glm\", se=FALSE, method.args = list(family=binomial))"
   ]
  },
  {
   "cell_type": "code",
   "execution_count": null,
   "id": "6ff00c6e",
   "metadata": {},
   "outputs": [],
   "source": []
  }
 ],
 "metadata": {
  "kernelspec": {
   "display_name": "R",
   "language": "R",
   "name": "ir"
  },
  "language_info": {
   "codemirror_mode": "r",
   "file_extension": ".r",
   "mimetype": "text/x-r-source",
   "name": "R",
   "pygments_lexer": "r",
   "version": "4.3.1"
  }
 },
 "nbformat": 4,
 "nbformat_minor": 5
}
